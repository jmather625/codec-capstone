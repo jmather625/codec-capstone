{
 "cells": [
  {
   "cell_type": "code",
   "execution_count": 1,
   "id": "fa714849",
   "metadata": {},
   "outputs": [],
   "source": [
    "%load_ext autoreload\n",
    "%autoreload 2"
   ]
  },
  {
   "cell_type": "code",
   "execution_count": 2,
   "id": "f098242b",
   "metadata": {},
   "outputs": [
    {
     "name": "stderr",
     "output_type": "stream",
     "text": [
      "/home/jatin/miniconda3/envs/DCVC/lib/python3.8/site-packages/tqdm/auto.py:22: TqdmWarning: IProgress not found. Please update jupyter and ipywidgets. See https://ipywidgets.readthedocs.io/en/stable/user_install.html\n",
      "  from .autonotebook import tqdm as notebook_tqdm\n"
     ]
    }
   ],
   "source": [
    "from src.models.DCVC_net import DCVC_net\n",
    "import torch\n",
    "from torchvision import transforms\n",
    "import numpy as np\n",
    "import pathlib\n",
    "import os\n",
    "import matplotlib.pyplot as plt\n",
    "import wandb\n",
    "import tqdm\n",
    "from torchnet import meter"
   ]
  },
  {
   "cell_type": "code",
   "execution_count": 3,
   "id": "6bbf444e",
   "metadata": {},
   "outputs": [
    {
     "data": {
      "text/plain": [
       "device(type='cuda')"
      ]
     },
     "execution_count": 3,
     "metadata": {},
     "output_type": "execute_result"
    }
   ],
   "source": [
    "BATCH_SIZE = 4\n",
    "DATA_DIR = pathlib.Path('../uvg/Beauty_PNG_1024/')\n",
    "DEVICE = torch.device('cuda')\n",
    "DEVICE"
   ]
  },
  {
   "cell_type": "code",
   "execution_count": 4,
   "id": "18cdd0cf",
   "metadata": {},
   "outputs": [],
   "source": [
    "video_net = DCVC_net()"
   ]
  },
  {
   "cell_type": "code",
   "execution_count": 5,
   "id": "ea66ceb4",
   "metadata": {},
   "outputs": [
    {
     "data": {
      "text/plain": [
       "<All keys matched successfully>"
      ]
     },
     "execution_count": 5,
     "metadata": {},
     "output_type": "execute_result"
    }
   ],
   "source": [
    "# # load the good weights\n",
    "# video_net.opticFlow = torch.load('../DCVC/optflow.pth')\n",
    "# video_net.mvEncoder = torch.load('../DCVC/mvenc.pth')\n",
    "# video_net.mvDecoder_part1 = torch.load('../DCVC/mvDecoder_part1.pth')\n",
    "# video_net.mvDecoder_part2 = torch.load('../DCVC/mvDecoder_part2.pth')\n",
    "# video_net.feature_extract = torch.load('../DCVC/feature_extract.pth')\n",
    "# video_net.context_refine = torch.load('../DCVC/context_refine.pth')\n",
    "# # video_net.contextualDecoder_part1 = torch.load('../DCVC/contextualDecoder_part1.pth')\n",
    "\n",
    "video_net.load_state_dict(torch.load('checkpoints/model_dcvc_quality_3_psnr.pth'))\n",
    "# print('Reminder to load optimizer too')\n",
    "# # optimizer = torch.optim.Adam(video_net.parameters(), lr=wandb.config.learning_rate)\n",
    "\n",
    "# video_net.opticFlow.requires_grad_ = False\n",
    "# video_net.mvEncoder.requires_grad_ = False\n",
    "# video_net.mvDecoder_part1.requires_grad_ = False\n",
    "# video_net.mvDecoder_part2.requires_grad_ = False\n",
    "# video_net.feature_extract.requires_grad_ = False\n",
    "# video_net.context_refine.requires_grad_ = False\n",
    "# # video_net.contextualDecoder_part1.requires_grad_ = False\n"
   ]
  },
  {
   "cell_type": "code",
   "execution_count": 6,
   "id": "f55dceb5",
   "metadata": {},
   "outputs": [],
   "source": [
    "class UVGDataset(torch.utils.data.Dataset):\n",
    "    def __init__(self, data_dir, crop_size=None, deterministic=False):\n",
    "        self.data_dir = data_dir\n",
    "        self.crop_size = crop_size\n",
    "        self.deterministic = deterministic\n",
    "        self.numframes = len(os.listdir(data_dir))\n",
    "        if crop_size is not None:\n",
    "            self.transforms = torch.nn.Sequential(\n",
    "                transforms.CenterCrop(crop_size)\n",
    "            )\n",
    "        else:\n",
    "            self.transforms = None\n",
    "       \n",
    "    def __getitem__(self, i):\n",
    "        interval = 1\n",
    "        # this is 1-indexed on disk\n",
    "        i += 1\n",
    "        int_as_str = f'{i}'.zfill(5)\n",
    "        ref = plt.imread(self.data_dir / f'im{int_as_str}.png')\n",
    "        int_as_str = f'{i + interval}'.zfill(5)\n",
    "        im = plt.imread(self.data_dir / f'im{int_as_str}.png')\n",
    "        imgs = [ref, im]\n",
    "\n",
    "        # plt.imread should make inputs in [0, 1] for us\n",
    "        imgs = np.stack(imgs, axis=0)\n",
    "        # bring RGB channels in front\n",
    "        imgs = imgs.transpose(0, 3, 1, 2)\n",
    "        imgs = torch.FloatTensor(imgs)\n",
    "        if self.transforms:\n",
    "            imgs = self.transforms(imgs)\n",
    "        return imgs\n",
    "\n",
    "    def __len__(self):\n",
    "        return self.numframes - 1\n",
    "\n",
    "ds = UVGDataset(DATA_DIR, crop_size=704)\n",
    "dl = torch.utils.data.DataLoader(\n",
    "    ds,\n",
    "    shuffle=True,\n",
    "    batch_size=BATCH_SIZE,\n",
    "    num_workers=6,\n",
    "    prefetch_factor=5\n",
    ")"
   ]
  },
  {
   "cell_type": "code",
   "execution_count": 7,
   "id": "34ce5efa",
   "metadata": {},
   "outputs": [],
   "source": [
    "video_net = video_net.to(DEVICE)"
   ]
  },
  {
   "cell_type": "code",
   "execution_count": 8,
   "id": "8fbb0176",
   "metadata": {},
   "outputs": [
    {
     "name": "stdout",
     "output_type": "stream",
     "text": [
      "The model has 7944448 trainable parameters\n"
     ]
    }
   ],
   "source": [
    "def count_parameters(model):\n",
    "    \"\"\"Return number of parameters in a model\"\"\"\n",
    "    return sum(p.numel() for p in model.parameters() if p.requires_grad)\n",
    "\n",
    "print(f'The model has {count_parameters(video_net)} trainable parameters')"
   ]
  },
  {
   "cell_type": "code",
   "execution_count": 9,
   "id": "502d30a2",
   "metadata": {},
   "outputs": [],
   "source": [
    "def test_epoch(model, dl, compress):\n",
    "    model.eval()\n",
    "    mse_criterion = torch.nn.MSELoss()\n",
    "    \n",
    "    mse_meter = meter.AverageValueMeter()\n",
    "    bpp_meter = meter.AverageValueMeter()\n",
    "    bpp_mv_y_meter = meter.AverageValueMeter()\n",
    "    bpp_mv_z_meter = meter.AverageValueMeter()\n",
    "    bpp_y_meter = meter.AverageValueMeter()\n",
    "    bpp_z_meter = meter.AverageValueMeter()\n",
    "    \n",
    "    pbar = tqdm.tqdm(dl)\n",
    "    for i, x in enumerate(pbar):\n",
    "        x = x.to(DEVICE)\n",
    "        ref = x[:,0]\n",
    "        im = x[:,1]\n",
    "        with torch.no_grad():\n",
    "            preds_dict = model(ref, im, compress=compress)\n",
    "        preds = preds_dict['recon_image']\n",
    "\n",
    "        mse_ls = mse_criterion(preds, im)\n",
    "        mse_meter.add(mse_ls.item())\n",
    "        bpp_meter.add(preds_dict['bpp'].item())\n",
    "        bpp_mv_y_meter.add(preds_dict['bpp_mv_y'].item())\n",
    "        bpp_mv_z_meter.add(preds_dict['bpp_mv_z'].item())\n",
    "        bpp_y_meter.add(preds_dict['bpp_y'].item())\n",
    "        bpp_z_meter.add(preds_dict['bpp_z'].item())\n",
    "        if i % 1 == 0:\n",
    "            avg_psnr = round(-10.0*np.log10(mse_meter.value()[0]), 6)\n",
    "            avg_bpp = round(bpp_meter.value()[0], 6)\n",
    "            avg_bpp_mv_y = round(bpp_mv_y_meter.value()[0], 6)\n",
    "            avg_bpp_mv_z = round(bpp_mv_z_meter.value()[0], 6)\n",
    "            avg_bpp_y = round(bpp_y_meter.value()[0], 6)\n",
    "            avg_bpp_z = round(bpp_z_meter.value()[0], 6)\n",
    "            msg = (\n",
    "                f'Avg PSNR: {avg_psnr}, bpp: {avg_bpp}, bpp_mv_y: {avg_bpp_mv_y}, avg_bpp_mv_z: {avg_bpp_mv_z} '\n",
    "                f'avg_bpp_y: {avg_bpp_y}, avg_bpp_z: {avg_bpp_z}'\n",
    "            )\n",
    "            pbar.set_description(msg)\n",
    "            \n",
    "    return avg_loss\n",
    "            "
   ]
  },
  {
   "cell_type": "code",
   "execution_count": 10,
   "id": "e65a7e33",
   "metadata": {},
   "outputs": [
    {
     "name": "stderr",
     "output_type": "stream",
     "text": [
      "Avg PSNR: 35.653138, bpp: 0.068851, bpp_mv_y: 0.026817, avg_bpp_mv_z: 0.000759 avg_bpp_y: 0.040065, avg_bpp_z: 0.001209:  12%|█▏        | 18/150 [00:14<01:48,  1.21it/s]\n",
      "Traceback (most recent call last):\n",
      "  File \"/home/jatin/miniconda3/envs/DCVC/lib/python3.8/multiprocessing/queues.py\", line 245, in _feed\n",
      "    send_bytes(obj)\n",
      "  File \"/home/jatin/miniconda3/envs/DCVC/lib/python3.8/multiprocessing/connection.py\", line 200, in send_bytes\n",
      "    self._send_bytes(m[offset:offset + size])\n",
      "  File \"/home/jatin/miniconda3/envs/DCVC/lib/python3.8/multiprocessing/connection.py\", line 411, in _send_bytes\n",
      "    self._send(header + buf)\n",
      "  File \"/home/jatin/miniconda3/envs/DCVC/lib/python3.8/multiprocessing/connection.py\", line 368, in _send\n",
      "    n = write(self._handle, buf)\n",
      "BrokenPipeError: [Errno 32] Broken pipe\n"
     ]
    },
    {
     "ename": "KeyboardInterrupt",
     "evalue": "",
     "output_type": "error",
     "traceback": [
      "\u001b[0;31m---------------------------------------------------------------------------\u001b[0m",
      "\u001b[0;31mKeyboardInterrupt\u001b[0m                         Traceback (most recent call last)",
      "Input \u001b[0;32mIn [10]\u001b[0m, in \u001b[0;36m<cell line: 1>\u001b[0;34m()\u001b[0m\n\u001b[0;32m----> 1\u001b[0m \u001b[43mtest_epoch\u001b[49m\u001b[43m(\u001b[49m\u001b[43mvideo_net\u001b[49m\u001b[43m,\u001b[49m\u001b[43m \u001b[49m\u001b[43mdl\u001b[49m\u001b[43m,\u001b[49m\u001b[43m \u001b[49m\u001b[43mcompress\u001b[49m\u001b[38;5;241;43m=\u001b[39;49m\u001b[38;5;28;43;01mTrue\u001b[39;49;00m\u001b[43m)\u001b[49m\n",
      "Input \u001b[0;32mIn [9]\u001b[0m, in \u001b[0;36mtest_epoch\u001b[0;34m(model, dl, compress)\u001b[0m\n\u001b[1;32m     19\u001b[0m preds \u001b[38;5;241m=\u001b[39m preds_dict[\u001b[38;5;124m'\u001b[39m\u001b[38;5;124mrecon_image\u001b[39m\u001b[38;5;124m'\u001b[39m]\n\u001b[1;32m     21\u001b[0m mse_ls \u001b[38;5;241m=\u001b[39m mse_criterion(preds, im)\n\u001b[0;32m---> 22\u001b[0m mse_meter\u001b[38;5;241m.\u001b[39madd(\u001b[43mmse_ls\u001b[49m\u001b[38;5;241;43m.\u001b[39;49m\u001b[43mitem\u001b[49m\u001b[43m(\u001b[49m\u001b[43m)\u001b[49m)\n\u001b[1;32m     23\u001b[0m bpp_meter\u001b[38;5;241m.\u001b[39madd(preds_dict[\u001b[38;5;124m'\u001b[39m\u001b[38;5;124mbpp\u001b[39m\u001b[38;5;124m'\u001b[39m]\u001b[38;5;241m.\u001b[39mitem())\n\u001b[1;32m     24\u001b[0m bpp_mv_y_meter\u001b[38;5;241m.\u001b[39madd(preds_dict[\u001b[38;5;124m'\u001b[39m\u001b[38;5;124mbpp_mv_y\u001b[39m\u001b[38;5;124m'\u001b[39m]\u001b[38;5;241m.\u001b[39mitem())\n",
      "\u001b[0;31mKeyboardInterrupt\u001b[0m: "
     ]
    }
   ],
   "source": [
    "test_epoch(video_net, dl, compress=True)"
   ]
  },
  {
   "cell_type": "code",
   "execution_count": 24,
   "id": "b01b84a8",
   "metadata": {},
   "outputs": [
    {
     "name": "stderr",
     "output_type": "stream",
     "text": [
      "Avg PSNR: 35.690355, bpp: 0.07611, bpp_mv_y: 0.028113, avg_bpp_mv_z: 0.000759 avg_bpp_y: 0.046028, avg_bpp_z: 0.001211:  17%|█▋        | 25/150 [00:19<01:38,  1.27it/s] \n"
     ]
    },
    {
     "ename": "KeyboardInterrupt",
     "evalue": "",
     "output_type": "error",
     "traceback": [
      "\u001b[0;31m---------------------------------------------------------------------------\u001b[0m",
      "\u001b[0;31mKeyboardInterrupt\u001b[0m                         Traceback (most recent call last)",
      "Input \u001b[0;32mIn [24]\u001b[0m, in \u001b[0;36m<cell line: 1>\u001b[0;34m()\u001b[0m\n\u001b[0;32m----> 1\u001b[0m \u001b[43mtest_epoch\u001b[49m\u001b[43m(\u001b[49m\u001b[43mvideo_net\u001b[49m\u001b[43m,\u001b[49m\u001b[43m \u001b[49m\u001b[43mdl\u001b[49m\u001b[43m,\u001b[49m\u001b[43m \u001b[49m\u001b[43mcompress\u001b[49m\u001b[38;5;241;43m=\u001b[39;49m\u001b[38;5;28;43;01mTrue\u001b[39;49;00m\u001b[43m)\u001b[49m\n",
      "Input \u001b[0;32mIn [23]\u001b[0m, in \u001b[0;36mtest_epoch\u001b[0;34m(model, dl, compress)\u001b[0m\n\u001b[1;32m     12\u001b[0m pbar \u001b[38;5;241m=\u001b[39m tqdm\u001b[38;5;241m.\u001b[39mtqdm(dl)\n\u001b[1;32m     13\u001b[0m \u001b[38;5;28;01mfor\u001b[39;00m i, x \u001b[38;5;129;01min\u001b[39;00m \u001b[38;5;28menumerate\u001b[39m(pbar):\n\u001b[0;32m---> 14\u001b[0m     x \u001b[38;5;241m=\u001b[39m \u001b[43mx\u001b[49m\u001b[38;5;241;43m.\u001b[39;49m\u001b[43mto\u001b[49m\u001b[43m(\u001b[49m\u001b[43mDEVICE\u001b[49m\u001b[43m)\u001b[49m\n\u001b[1;32m     15\u001b[0m     ref \u001b[38;5;241m=\u001b[39m x[:,\u001b[38;5;241m0\u001b[39m]\n\u001b[1;32m     16\u001b[0m     im \u001b[38;5;241m=\u001b[39m x[:,\u001b[38;5;241m1\u001b[39m]\n",
      "\u001b[0;31mKeyboardInterrupt\u001b[0m: "
     ]
    }
   ],
   "source": [
    "test_epoch(video_net, dl, compress=True)"
   ]
  },
  {
   "cell_type": "code",
   "execution_count": 25,
   "id": "17a8faf3",
   "metadata": {},
   "outputs": [
    {
     "name": "stderr",
     "output_type": "stream",
     "text": [
      "Avg PSNR: 35.724303, bpp: 0.073545, bpp_mv_y: 0.026693, avg_bpp_mv_z: 0.000759 avg_bpp_y: 0.044851, avg_bpp_z: 0.001242:   8%|▊         | 12/150 [00:10<02:02,  1.13it/s]\n"
     ]
    },
    {
     "ename": "KeyboardInterrupt",
     "evalue": "",
     "output_type": "error",
     "traceback": [
      "\u001b[0;31m---------------------------------------------------------------------------\u001b[0m",
      "\u001b[0;31mKeyboardInterrupt\u001b[0m                         Traceback (most recent call last)",
      "Input \u001b[0;32mIn [25]\u001b[0m, in \u001b[0;36m<cell line: 1>\u001b[0;34m()\u001b[0m\n\u001b[0;32m----> 1\u001b[0m \u001b[43mtest_epoch\u001b[49m\u001b[43m(\u001b[49m\u001b[43mvideo_net\u001b[49m\u001b[43m,\u001b[49m\u001b[43m \u001b[49m\u001b[43mdl\u001b[49m\u001b[43m,\u001b[49m\u001b[43m \u001b[49m\u001b[43mcompress\u001b[49m\u001b[38;5;241;43m=\u001b[39;49m\u001b[38;5;28;43;01mFalse\u001b[39;49;00m\u001b[43m)\u001b[49m\n",
      "Input \u001b[0;32mIn [23]\u001b[0m, in \u001b[0;36mtest_epoch\u001b[0;34m(model, dl, compress)\u001b[0m\n\u001b[1;32m     19\u001b[0m preds \u001b[38;5;241m=\u001b[39m preds_dict[\u001b[38;5;124m'\u001b[39m\u001b[38;5;124mrecon_image\u001b[39m\u001b[38;5;124m'\u001b[39m]\n\u001b[1;32m     21\u001b[0m mse_ls \u001b[38;5;241m=\u001b[39m mse_criterion(preds, im)\n\u001b[0;32m---> 22\u001b[0m mse_meter\u001b[38;5;241m.\u001b[39madd(\u001b[43mmse_ls\u001b[49m\u001b[38;5;241;43m.\u001b[39;49m\u001b[43mitem\u001b[49m\u001b[43m(\u001b[49m\u001b[43m)\u001b[49m)\n\u001b[1;32m     23\u001b[0m bpp_meter\u001b[38;5;241m.\u001b[39madd(preds_dict[\u001b[38;5;124m'\u001b[39m\u001b[38;5;124mbpp\u001b[39m\u001b[38;5;124m'\u001b[39m]\u001b[38;5;241m.\u001b[39mitem())\n\u001b[1;32m     24\u001b[0m bpp_mv_y_meter\u001b[38;5;241m.\u001b[39madd(preds_dict[\u001b[38;5;124m'\u001b[39m\u001b[38;5;124mbpp_mv_y\u001b[39m\u001b[38;5;124m'\u001b[39m]\u001b[38;5;241m.\u001b[39mitem())\n",
      "\u001b[0;31mKeyboardInterrupt\u001b[0m: "
     ]
    }
   ],
   "source": [
    "test_epoch(video_net, dl, compress=False)"
   ]
  },
  {
   "cell_type": "code",
   "execution_count": null,
   "id": "05832a92",
   "metadata": {},
   "outputs": [],
   "source": []
  },
  {
   "cell_type": "code",
   "execution_count": null,
   "id": "eb7b1fd1",
   "metadata": {},
   "outputs": [],
   "source": []
  },
  {
   "cell_type": "code",
   "execution_count": null,
   "id": "a022a180",
   "metadata": {},
   "outputs": [],
   "source": []
  },
  {
   "cell_type": "code",
   "execution_count": 11,
   "id": "f903618d",
   "metadata": {},
   "outputs": [
    {
     "name": "stderr",
     "output_type": "stream",
     "text": [
      "Avg PSNR/Loss, Batch Loss: (35.778809, 0.000264, 0.000276):  12%|█▏        | 18/150 [00:15<01:52,  1.17it/s]\n",
      "Traceback (most recent call last):\n",
      "  File \"/home/jatin/miniconda3/envs/DCVC/lib/python3.8/multiprocessing/queues.py\", line 245, in _feed\n",
      "    send_bytes(obj)\n",
      "  File \"/home/jatin/miniconda3/envs/DCVC/lib/python3.8/multiprocessing/connection.py\", line 200, in send_bytes\n",
      "    self._send_bytes(m[offset:offset + size])\n",
      "  File \"/home/jatin/miniconda3/envs/DCVC/lib/python3.8/multiprocessing/connection.py\", line 411, in _send_bytes\n",
      "    self._send(header + buf)\n",
      "  File \"/home/jatin/miniconda3/envs/DCVC/lib/python3.8/multiprocessing/connection.py\", line 368, in _send\n",
      "    n = write(self._handle, buf)\n",
      "BrokenPipeError: [Errno 32] Broken pipe\n",
      "Traceback (most recent call last):\n",
      "  File \"/home/jatin/miniconda3/envs/DCVC/lib/python3.8/multiprocessing/queues.py\", line 245, in _feed\n",
      "    send_bytes(obj)\n",
      "  File \"/home/jatin/miniconda3/envs/DCVC/lib/python3.8/multiprocessing/connection.py\", line 200, in send_bytes\n",
      "    self._send_bytes(m[offset:offset + size])\n",
      "  File \"/home/jatin/miniconda3/envs/DCVC/lib/python3.8/multiprocessing/connection.py\", line 411, in _send_bytes\n",
      "    self._send(header + buf)\n",
      "  File \"/home/jatin/miniconda3/envs/DCVC/lib/python3.8/multiprocessing/connection.py\", line 368, in _send\n",
      "    n = write(self._handle, buf)\n",
      "BrokenPipeError: [Errno 32] Broken pipe\n",
      "Traceback (most recent call last):\n",
      "  File \"/home/jatin/miniconda3/envs/DCVC/lib/python3.8/multiprocessing/queues.py\", line 245, in _feed\n",
      "    send_bytes(obj)\n",
      "  File \"/home/jatin/miniconda3/envs/DCVC/lib/python3.8/multiprocessing/connection.py\", line 200, in send_bytes\n",
      "    self._send_bytes(m[offset:offset + size])\n",
      "  File \"/home/jatin/miniconda3/envs/DCVC/lib/python3.8/multiprocessing/connection.py\", line 411, in _send_bytes\n",
      "    self._send(header + buf)\n",
      "  File \"/home/jatin/miniconda3/envs/DCVC/lib/python3.8/multiprocessing/connection.py\", line 368, in _send\n",
      "    n = write(self._handle, buf)\n",
      "BrokenPipeError: [Errno 32] Broken pipe\n",
      "Traceback (most recent call last):\n",
      "  File \"/home/jatin/miniconda3/envs/DCVC/lib/python3.8/multiprocessing/queues.py\", line 245, in _feed\n",
      "    send_bytes(obj)\n",
      "  File \"/home/jatin/miniconda3/envs/DCVC/lib/python3.8/multiprocessing/connection.py\", line 200, in send_bytes\n",
      "    self._send_bytes(m[offset:offset + size])\n",
      "  File \"/home/jatin/miniconda3/envs/DCVC/lib/python3.8/multiprocessing/connection.py\", line 411, in _send_bytes\n",
      "    self._send(header + buf)\n",
      "  File \"/home/jatin/miniconda3/envs/DCVC/lib/python3.8/multiprocessing/connection.py\", line 368, in _send\n",
      "    n = write(self._handle, buf)\n",
      "BrokenPipeError: [Errno 32] Broken pipe\n",
      "Traceback (most recent call last):\n",
      "  File \"/home/jatin/miniconda3/envs/DCVC/lib/python3.8/multiprocessing/queues.py\", line 245, in _feed\n",
      "    send_bytes(obj)\n",
      "  File \"/home/jatin/miniconda3/envs/DCVC/lib/python3.8/multiprocessing/connection.py\", line 200, in send_bytes\n",
      "    self._send_bytes(m[offset:offset + size])\n",
      "  File \"/home/jatin/miniconda3/envs/DCVC/lib/python3.8/multiprocessing/connection.py\", line 411, in _send_bytes\n",
      "    self._send(header + buf)\n",
      "  File \"/home/jatin/miniconda3/envs/DCVC/lib/python3.8/multiprocessing/connection.py\", line 368, in _send\n",
      "    n = write(self._handle, buf)\n",
      "BrokenPipeError: [Errno 32] Broken pipe\n",
      "Traceback (most recent call last):\n",
      "  File \"/home/jatin/miniconda3/envs/DCVC/lib/python3.8/multiprocessing/queues.py\", line 245, in _feed\n",
      "    send_bytes(obj)\n",
      "  File \"/home/jatin/miniconda3/envs/DCVC/lib/python3.8/multiprocessing/connection.py\", line 200, in send_bytes\n",
      "    self._send_bytes(m[offset:offset + size])\n",
      "  File \"/home/jatin/miniconda3/envs/DCVC/lib/python3.8/multiprocessing/connection.py\", line 411, in _send_bytes\n",
      "    self._send(header + buf)\n",
      "  File \"/home/jatin/miniconda3/envs/DCVC/lib/python3.8/multiprocessing/connection.py\", line 368, in _send\n",
      "    n = write(self._handle, buf)\n",
      "BrokenPipeError: [Errno 32] Broken pipe\n"
     ]
    },
    {
     "ename": "KeyboardInterrupt",
     "evalue": "",
     "output_type": "error",
     "traceback": [
      "\u001b[0;31m---------------------------------------------------------------------------\u001b[0m",
      "\u001b[0;31mKeyboardInterrupt\u001b[0m                         Traceback (most recent call last)",
      "Input \u001b[0;32mIn [11]\u001b[0m, in \u001b[0;36m<cell line: 1>\u001b[0;34m()\u001b[0m\n\u001b[0;32m----> 1\u001b[0m \u001b[43mtest_epoch\u001b[49m\u001b[43m(\u001b[49m\u001b[43mvideo_net\u001b[49m\u001b[43m,\u001b[49m\u001b[43m \u001b[49m\u001b[43mdl\u001b[49m\u001b[43m,\u001b[49m\u001b[43m \u001b[49m\u001b[43mcriterion\u001b[49m\u001b[43m,\u001b[49m\u001b[43m \u001b[49m\u001b[43mcompress\u001b[49m\u001b[38;5;241;43m=\u001b[39;49m\u001b[38;5;28;43;01mTrue\u001b[39;49;00m\u001b[43m)\u001b[49m\n",
      "Input \u001b[0;32mIn [10]\u001b[0m, in \u001b[0;36mtest_epoch\u001b[0;34m(model, dl, criterion, compress)\u001b[0m\n\u001b[1;32m      9\u001b[0m im \u001b[38;5;241m=\u001b[39m x[:,\u001b[38;5;241m1\u001b[39m]\n\u001b[1;32m     10\u001b[0m \u001b[38;5;28;01mwith\u001b[39;00m torch\u001b[38;5;241m.\u001b[39mno_grad():\n\u001b[0;32m---> 11\u001b[0m     preds_dict \u001b[38;5;241m=\u001b[39m \u001b[43mmodel\u001b[49m\u001b[43m(\u001b[49m\u001b[43mref\u001b[49m\u001b[43m,\u001b[49m\u001b[43m \u001b[49m\u001b[43mim\u001b[49m\u001b[43m,\u001b[49m\u001b[43m \u001b[49m\u001b[43mcompress\u001b[49m\u001b[38;5;241;43m=\u001b[39;49m\u001b[43mcompress\u001b[49m\u001b[43m)\u001b[49m\n\u001b[1;32m     12\u001b[0m preds \u001b[38;5;241m=\u001b[39m preds_dict[\u001b[38;5;124m'\u001b[39m\u001b[38;5;124mrecon_image\u001b[39m\u001b[38;5;124m'\u001b[39m]\n\u001b[1;32m     13\u001b[0m loss \u001b[38;5;241m=\u001b[39m criterion(preds, im)\n",
      "File \u001b[0;32m~/miniconda3/envs/DCVC/lib/python3.8/site-packages/torch/nn/modules/module.py:727\u001b[0m, in \u001b[0;36mModule._call_impl\u001b[0;34m(self, *input, **kwargs)\u001b[0m\n\u001b[1;32m    725\u001b[0m     result \u001b[38;5;241m=\u001b[39m \u001b[38;5;28mself\u001b[39m\u001b[38;5;241m.\u001b[39m_slow_forward(\u001b[38;5;241m*\u001b[39m\u001b[38;5;28minput\u001b[39m, \u001b[38;5;241m*\u001b[39m\u001b[38;5;241m*\u001b[39mkwargs)\n\u001b[1;32m    726\u001b[0m \u001b[38;5;28;01melse\u001b[39;00m:\n\u001b[0;32m--> 727\u001b[0m     result \u001b[38;5;241m=\u001b[39m \u001b[38;5;28;43mself\u001b[39;49m\u001b[38;5;241;43m.\u001b[39;49m\u001b[43mforward\u001b[49m\u001b[43m(\u001b[49m\u001b[38;5;241;43m*\u001b[39;49m\u001b[38;5;28;43minput\u001b[39;49m\u001b[43m,\u001b[49m\u001b[43m \u001b[49m\u001b[38;5;241;43m*\u001b[39;49m\u001b[38;5;241;43m*\u001b[39;49m\u001b[43mkwargs\u001b[49m\u001b[43m)\u001b[49m\n\u001b[1;32m    728\u001b[0m \u001b[38;5;28;01mfor\u001b[39;00m hook \u001b[38;5;129;01min\u001b[39;00m itertools\u001b[38;5;241m.\u001b[39mchain(\n\u001b[1;32m    729\u001b[0m         _global_forward_hooks\u001b[38;5;241m.\u001b[39mvalues(),\n\u001b[1;32m    730\u001b[0m         \u001b[38;5;28mself\u001b[39m\u001b[38;5;241m.\u001b[39m_forward_hooks\u001b[38;5;241m.\u001b[39mvalues()):\n\u001b[1;32m    731\u001b[0m     hook_result \u001b[38;5;241m=\u001b[39m hook(\u001b[38;5;28mself\u001b[39m, \u001b[38;5;28minput\u001b[39m, result)\n",
      "File \u001b[0;32m~/codec/codec-capstone/DCVC/src/models/DCVC_net.py:491\u001b[0m, in \u001b[0;36mDCVC_net.forward\u001b[0;34m(self, referframe, input_image, compress)\u001b[0m\n\u001b[1;32m    488\u001b[0m z_mv \u001b[38;5;241m=\u001b[39m \u001b[38;5;28mself\u001b[39m\u001b[38;5;241m.\u001b[39mmvpriorEncoder(mvfeature)\n\u001b[1;32m    489\u001b[0m \u001b[38;5;28;01mif\u001b[39;00m compress:\n\u001b[1;32m    490\u001b[0m     \u001b[38;5;66;03m# compressed_z_mv = torch.round(z_mv)\u001b[39;00m\n\u001b[0;32m--> 491\u001b[0m     compressed_z_mv \u001b[38;5;241m=\u001b[39m \u001b[38;5;28;43mself\u001b[39;49m\u001b[38;5;241;43m.\u001b[39;49m\u001b[43mtrain_quantize\u001b[49m\u001b[43m(\u001b[49m\u001b[43mz_mv\u001b[49m\u001b[43m)\u001b[49m\n\u001b[1;32m    492\u001b[0m \u001b[38;5;28;01melse\u001b[39;00m:\n\u001b[1;32m    493\u001b[0m     compressed_z_mv \u001b[38;5;241m=\u001b[39m z_mv\n",
      "File \u001b[0;32m~/codec/codec-capstone/DCVC/src/models/DCVC_net.py:483\u001b[0m, in \u001b[0;36mDCVC_net.train_quantize\u001b[0;34m(self, x)\u001b[0m\n\u001b[1;32m    481\u001b[0m \u001b[38;5;28;01mdef\u001b[39;00m \u001b[38;5;21mtrain_quantize\u001b[39m(\u001b[38;5;28mself\u001b[39m, x):\n\u001b[1;32m    482\u001b[0m     \u001b[38;5;66;03m# Simulates quantization by adding uniform noise [-0.5, 0.5]\u001b[39;00m\n\u001b[0;32m--> 483\u001b[0m     \u001b[38;5;28;01mreturn\u001b[39;00m x \u001b[38;5;241m+\u001b[39m \u001b[43mtorch\u001b[49m\u001b[38;5;241;43m.\u001b[39;49m\u001b[43mrand\u001b[49m\u001b[43m(\u001b[49m\u001b[43mx\u001b[49m\u001b[38;5;241;43m.\u001b[39;49m\u001b[43mshape\u001b[49m\u001b[43m)\u001b[49m\u001b[38;5;241;43m.\u001b[39;49m\u001b[43mto\u001b[49m\u001b[43m(\u001b[49m\u001b[43mx\u001b[49m\u001b[38;5;241;43m.\u001b[39;49m\u001b[43mdevice\u001b[49m\u001b[43m)\u001b[49m \u001b[38;5;241m-\u001b[39m \u001b[38;5;241m0.5\u001b[39m\n",
      "\u001b[0;31mKeyboardInterrupt\u001b[0m: "
     ]
    }
   ],
   "source": [
    "test_epoch(video_net, dl, criterion, compress=True)"
   ]
  },
  {
   "cell_type": "code",
   "execution_count": 11,
   "id": "7fe1f2b7",
   "metadata": {},
   "outputs": [
    {
     "name": "stderr",
     "output_type": "stream",
     "text": [
      "Avg PSNR/Loss, Batch Loss: (35.664951, 0.000271, 0.000279):  11%|█▏        | 17/150 [00:15<01:58,  1.12it/s]\n"
     ]
    },
    {
     "ename": "KeyboardInterrupt",
     "evalue": "",
     "output_type": "error",
     "traceback": [
      "\u001b[0;31m---------------------------------------------------------------------------\u001b[0m",
      "\u001b[0;31mKeyboardInterrupt\u001b[0m                         Traceback (most recent call last)",
      "Input \u001b[0;32mIn [11]\u001b[0m, in \u001b[0;36m<cell line: 1>\u001b[0;34m()\u001b[0m\n\u001b[0;32m----> 1\u001b[0m \u001b[43mtest_epoch\u001b[49m\u001b[43m(\u001b[49m\u001b[43mvideo_net\u001b[49m\u001b[43m,\u001b[49m\u001b[43m \u001b[49m\u001b[43mdl\u001b[49m\u001b[43m,\u001b[49m\u001b[43m \u001b[49m\u001b[43mcriterion\u001b[49m\u001b[43m,\u001b[49m\u001b[43m \u001b[49m\u001b[43mcompress\u001b[49m\u001b[38;5;241;43m=\u001b[39;49m\u001b[38;5;28;43;01mTrue\u001b[39;49;00m\u001b[43m)\u001b[49m\n",
      "Input \u001b[0;32mIn [10]\u001b[0m, in \u001b[0;36mtest_epoch\u001b[0;34m(model, dl, criterion, compress)\u001b[0m\n\u001b[1;32m     12\u001b[0m preds \u001b[38;5;241m=\u001b[39m preds_dict[\u001b[38;5;124m'\u001b[39m\u001b[38;5;124mrecon_image\u001b[39m\u001b[38;5;124m'\u001b[39m]\n\u001b[1;32m     13\u001b[0m loss \u001b[38;5;241m=\u001b[39m criterion(preds, im)\n\u001b[0;32m---> 14\u001b[0m ls \u001b[38;5;241m=\u001b[39m \u001b[43mloss\u001b[49m\u001b[38;5;241;43m.\u001b[39;49m\u001b[43mitem\u001b[49m\u001b[43m(\u001b[49m\u001b[43m)\u001b[49m\n\u001b[1;32m     16\u001b[0m epoch_loss \u001b[38;5;241m+\u001b[39m\u001b[38;5;241m=\u001b[39m ls\n\u001b[1;32m     17\u001b[0m total_count \u001b[38;5;241m+\u001b[39m\u001b[38;5;241m=\u001b[39m \u001b[38;5;241m1\u001b[39m\n",
      "\u001b[0;31mKeyboardInterrupt\u001b[0m: "
     ]
    }
   ],
   "source": [
    "test_epoch(video_net, dl, criterion, compress=True)"
   ]
  },
  {
   "cell_type": "code",
   "execution_count": 11,
   "id": "51ca25cc",
   "metadata": {},
   "outputs": [
    {
     "name": "stderr",
     "output_type": "stream",
     "text": [
      "Avg PSNR/Loss, Batch Loss: (35.729129, 0.000267, 0.000264):  15%|█▍        | 22/150 [00:18<01:47,  1.19it/s]\n"
     ]
    },
    {
     "ename": "KeyboardInterrupt",
     "evalue": "",
     "output_type": "error",
     "traceback": [
      "\u001b[0;31m---------------------------------------------------------------------------\u001b[0m",
      "\u001b[0;31mKeyboardInterrupt\u001b[0m                         Traceback (most recent call last)",
      "Input \u001b[0;32mIn [11]\u001b[0m, in \u001b[0;36m<cell line: 1>\u001b[0;34m()\u001b[0m\n\u001b[0;32m----> 1\u001b[0m \u001b[43mtest_epoch\u001b[49m\u001b[43m(\u001b[49m\u001b[43mvideo_net\u001b[49m\u001b[43m,\u001b[49m\u001b[43m \u001b[49m\u001b[43mdl\u001b[49m\u001b[43m,\u001b[49m\u001b[43m \u001b[49m\u001b[43mcriterion\u001b[49m\u001b[43m,\u001b[49m\u001b[43m \u001b[49m\u001b[43mcompress\u001b[49m\u001b[38;5;241;43m=\u001b[39;49m\u001b[38;5;28;43;01mFalse\u001b[39;49;00m\u001b[43m)\u001b[49m\n",
      "Input \u001b[0;32mIn [10]\u001b[0m, in \u001b[0;36mtest_epoch\u001b[0;34m(model, dl, criterion, compress)\u001b[0m\n\u001b[1;32m     12\u001b[0m preds \u001b[38;5;241m=\u001b[39m preds_dict[\u001b[38;5;124m'\u001b[39m\u001b[38;5;124mrecon_image\u001b[39m\u001b[38;5;124m'\u001b[39m]\n\u001b[1;32m     13\u001b[0m loss \u001b[38;5;241m=\u001b[39m criterion(preds, im)\n\u001b[0;32m---> 14\u001b[0m ls \u001b[38;5;241m=\u001b[39m \u001b[43mloss\u001b[49m\u001b[38;5;241;43m.\u001b[39;49m\u001b[43mitem\u001b[49m\u001b[43m(\u001b[49m\u001b[43m)\u001b[49m\n\u001b[1;32m     16\u001b[0m epoch_loss \u001b[38;5;241m+\u001b[39m\u001b[38;5;241m=\u001b[39m ls\n\u001b[1;32m     17\u001b[0m total_count \u001b[38;5;241m+\u001b[39m\u001b[38;5;241m=\u001b[39m \u001b[38;5;241m1\u001b[39m\n",
      "\u001b[0;31mKeyboardInterrupt\u001b[0m: "
     ]
    }
   ],
   "source": [
    "test_epoch(video_net, dl, criterion, compress=False)"
   ]
  },
  {
   "cell_type": "code",
   "execution_count": null,
   "id": "c90c98b1",
   "metadata": {},
   "outputs": [],
   "source": []
  },
  {
   "cell_type": "code",
   "execution_count": 14,
   "id": "888c754a",
   "metadata": {},
   "outputs": [
    {
     "name": "stderr",
     "output_type": "stream",
     "text": [
      "Avg PSNR/Loss, Batch Loss: (36.6044, 0.0002, 0.0003):  17%|█▋        | 4000/22926 [27:58<2:25:19,  2.17it/s]"
     ]
    },
    {
     "name": "stdout",
     "output_type": "stream",
     "text": [
      "Saving model with avg loss 0.0002\n"
     ]
    },
    {
     "name": "stderr",
     "output_type": "stream",
     "text": [
      "Avg PSNR/Loss, Batch Loss: (37.2588, 0.0002, 0.0002):  30%|██▉       | 6799/22926 [47:33<1:52:49,  2.38it/s]wandb: Network error (ReadTimeout), entering retry loop.\n",
      "Avg PSNR/Loss, Batch Loss: (37.4266, 0.0002, 0.0002):  35%|███▍      | 8000/22926 [55:56<1:53:00,  2.20it/s]"
     ]
    },
    {
     "name": "stdout",
     "output_type": "stream",
     "text": [
      "Saving model with avg loss 0.0002\n"
     ]
    },
    {
     "name": "stderr",
     "output_type": "stream",
     "text": [
      "Avg PSNR/Loss, Batch Loss: (37.6845, 0.0002, 0.0001):  52%|█████▏    | 12000/22926 [1:23:54<1:22:29,  2.21it/s]"
     ]
    },
    {
     "name": "stdout",
     "output_type": "stream",
     "text": [
      "Saving model with avg loss 0.0002\n"
     ]
    },
    {
     "name": "stderr",
     "output_type": "stream",
     "text": [
      "Avg PSNR/Loss, Batch Loss: (37.9215, 0.0002, 0.0001):  70%|██████▉   | 16000/22926 [1:51:52<52:38,  2.19it/s]  "
     ]
    },
    {
     "name": "stdout",
     "output_type": "stream",
     "text": [
      "Saving model with avg loss 0.0002\n"
     ]
    },
    {
     "name": "stderr",
     "output_type": "stream",
     "text": [
      "Avg PSNR/Loss, Batch Loss: (37.9732, 0.0002, 0.0001):  72%|███████▏  | 16527/22926 [1:55:34<44:40,  2.39it/s]IOPub message rate exceeded.\n",
      "The notebook server will temporarily stop sending output\n",
      "to the client in order to avoid crashing it.\n",
      "To change this limit, set the config variable\n",
      "`--NotebookApp.iopub_msg_rate_limit`.\n",
      "\n",
      "Current values:\n",
      "NotebookApp.iopub_msg_rate_limit=1000.0 (msgs/sec)\n",
      "NotebookApp.rate_limit_window=3.0 (secs)\n",
      "\n",
      "Avg PSNR/Loss, Batch Loss: (38.4354, 0.0001, 0.0001):  10%|█         | 2398/22926 [16:47<2:23:19,  2.39it/s]IOPub message rate exceeded.\n",
      "The notebook server will temporarily stop sending output\n",
      "to the client in order to avoid crashing it.\n",
      "To change this limit, set the config variable\n",
      "`--NotebookApp.iopub_msg_rate_limit`.\n",
      "\n",
      "Current values:\n",
      "NotebookApp.iopub_msg_rate_limit=1000.0 (msgs/sec)\n",
      "NotebookApp.rate_limit_window=3.0 (secs)\n",
      "\n",
      "Avg PSNR/Loss, Batch Loss: (38.893, 0.0001, 0.0001):  47%|████▋     | 10822/22926 [1:15:41<1:24:40,  2.38it/s] IOPub message rate exceeded.\n",
      "The notebook server will temporarily stop sending output\n",
      "to the client in order to avoid crashing it.\n",
      "To change this limit, set the config variable\n",
      "`--NotebookApp.iopub_msg_rate_limit`.\n",
      "\n",
      "Current values:\n",
      "NotebookApp.iopub_msg_rate_limit=1000.0 (msgs/sec)\n",
      "NotebookApp.rate_limit_window=3.0 (secs)\n",
      "\n",
      "Avg PSNR/Loss, Batch Loss: (39.2373, 0.0001, 0.0001):  85%|████████▌ | 19560/22926 [2:16:46<23:30,  2.39it/s]IOPub message rate exceeded.\n",
      "The notebook server will temporarily stop sending output\n",
      "to the client in order to avoid crashing it.\n",
      "To change this limit, set the config variable\n",
      "`--NotebookApp.iopub_msg_rate_limit`.\n",
      "\n",
      "Current values:\n",
      "NotebookApp.iopub_msg_rate_limit=1000.0 (msgs/sec)\n",
      "NotebookApp.rate_limit_window=3.0 (secs)\n",
      "\n",
      "Avg PSNR/Loss, Batch Loss: (39.6592, 0.0001, 0.0002):  17%|█▋        | 3999/22926 [27:58<2:12:03,  2.39it/s]"
     ]
    },
    {
     "name": "stdout",
     "output_type": "stream",
     "text": [
      "Saving model with avg loss 0.0001\n"
     ]
    },
    {
     "name": "stderr",
     "output_type": "stream",
     "text": [
      "Avg PSNR/Loss, Batch Loss: (40.0046, 0.0001, 0.0):  23%|██▎       | 5243/22926 [36:40<2:03:49,  2.38it/s]   IOPub message rate exceeded.\n",
      "The notebook server will temporarily stop sending output\n",
      "to the client in order to avoid crashing it.\n",
      "To change this limit, set the config variable\n",
      "`--NotebookApp.iopub_msg_rate_limit`.\n",
      "\n",
      "Current values:\n",
      "NotebookApp.iopub_msg_rate_limit=1000.0 (msgs/sec)\n",
      "NotebookApp.rate_limit_window=3.0 (secs)\n",
      "\n",
      "Avg PSNR/Loss, Batch Loss: (40.6615, 0.0001, 0.0):  52%|█████▏    | 12000/22926 [1:23:55<1:26:38,  2.10it/s]   "
     ]
    },
    {
     "name": "stdout",
     "output_type": "stream",
     "text": [
      "Saving model with avg loss 0.0001\n"
     ]
    },
    {
     "name": "stderr",
     "output_type": "stream",
     "text": [
      "Avg PSNR/Loss, Batch Loss: (40.7101, 0.0001, 0.0):  58%|█████▊    | 13315/22926 [1:33:07<1:07:13,  2.38it/s]   IOPub message rate exceeded.\n",
      "The notebook server will temporarily stop sending output\n",
      "to the client in order to avoid crashing it.\n",
      "To change this limit, set the config variable\n",
      "`--NotebookApp.iopub_msg_rate_limit`.\n",
      "\n",
      "Current values:\n",
      "NotebookApp.iopub_msg_rate_limit=1000.0 (msgs/sec)\n",
      "NotebookApp.rate_limit_window=3.0 (secs)\n",
      "\n",
      "Avg PSNR/Loss, Batch Loss: (41.0836, 0.0001, 0.0):  93%|█████████▎| 21374/22926 [2:29:29<10:51,  2.38it/s]   wandb: Network error (ReadTimeout), entering retry loop.\n",
      "Avg PSNR/Loss, Batch Loss: (40.952, 0.0001, 0.0):  95%|█████████▌| 21872/22926 [2:32:58<07:21,  2.39it/s]    IOPub message rate exceeded.\n",
      "The notebook server will temporarily stop sending output\n",
      "to the client in order to avoid crashing it.\n",
      "To change this limit, set the config variable\n",
      "`--NotebookApp.iopub_msg_rate_limit`.\n",
      "\n",
      "Current values:\n",
      "NotebookApp.iopub_msg_rate_limit=1000.0 (msgs/sec)\n",
      "NotebookApp.rate_limit_window=3.0 (secs)\n",
      "\n",
      "Avg PSNR/Loss, Batch Loss: (42.2059, 0.0001, 0.0):  33%|███▎      | 7464/22926 [52:12<1:48:17,  2.38it/s]   IOPub message rate exceeded.\n",
      "The notebook server will temporarily stop sending output\n",
      "to the client in order to avoid crashing it.\n",
      "To change this limit, set the config variable\n",
      "`--NotebookApp.iopub_msg_rate_limit`.\n",
      "\n",
      "Current values:\n",
      "NotebookApp.iopub_msg_rate_limit=1000.0 (msgs/sec)\n",
      "NotebookApp.rate_limit_window=3.0 (secs)\n",
      "\n",
      "Avg PSNR/Loss, Batch Loss: (42.3634, 0.0001, 0.0):  68%|██████▊   | 15602/22926 [1:49:07<51:14,  2.38it/s]     IOPub message rate exceeded.\n",
      "The notebook server will temporarily stop sending output\n",
      "to the client in order to avoid crashing it.\n",
      "To change this limit, set the config variable\n",
      "`--NotebookApp.iopub_msg_rate_limit`.\n",
      "\n",
      "Current values:\n",
      "NotebookApp.iopub_msg_rate_limit=1000.0 (msgs/sec)\n",
      "NotebookApp.rate_limit_window=3.0 (secs)\n",
      "\n"
     ]
    }
   ],
   "source": [
    "for i in range(1, wandb.config.epochs):\n",
    "    avg_loss, had_err, err_x = train_epoch(video_net, i, dl, optimizer, criterion)\n",
    "    if had_err:\n",
    "        print('Breaking out of train loop for debugging...')\n",
    "        break\n",
    "    torch.save(\n",
    "        {'model': video_net.state_dict(), 'optimizer': optimizer.state_dict()},\n",
    "        SAVE_FOLDER / f\"dcvc_epoch={i}_avg_loss={avg_loss}.pt\",\n",
    "    )\n",
    "    "
   ]
  },
  {
   "cell_type": "code",
   "execution_count": 15,
   "id": "b0f7420f",
   "metadata": {},
   "outputs": [
    {
     "data": {
      "text/html": [
       "Waiting for W&B process to finish... <strong style=\"color:green\">(success).</strong>"
      ],
      "text/plain": [
       "<IPython.core.display.HTML object>"
      ]
     },
     "metadata": {},
     "output_type": "display_data"
    },
    {
     "data": {
      "text/html": [
       "<style>\n",
       "    table.wandb td:nth-child(1) { padding: 0 10px; text-align: right }\n",
       "    .wandb-row { display: flex; flex-direction: row; flex-wrap: wrap; width: 100% }\n",
       "    .wandb-col { display: flex; flex-direction: column; flex-basis: 100%; flex: 1; padding: 10px; }\n",
       "    </style>\n",
       "<div class=\"wandb-row\"><div class=\"wandb-col\"><h3>Run history:</h3><br/><table class=\"wandb\"><tr><td>train/avg_loss</td><td>▁▁▁▁▁▁▁▁▁▁▁▁▁▁▁▁██▇▇▇▁▁▁▁▁▁▁▁▁▁▁▁▁▁▁▁▁▁▁</td></tr><tr><td>train/avg_psnr</td><td>████████████████▁▁▁▁▁▇▇▇▇▇▇▇██▆▆▆▆▆▆▆▆▆▆</td></tr><tr><td>train/batch_loss</td><td>▁▁▁▁▁▁▁▁▁▁▁▁▁▁▁▁█▅▂▃▂▂▂▂▁▁▂▁▁▁█▂▂▁▁▂▁▁▂▁</td></tr><tr><td>train/epoch</td><td>▁▁▁▁▁▁▁▁▁▁▁▁▁▁▁▁▁▁▁▁▁███████████████████</td></tr></table><br/></div><div class=\"wandb-col\"><h3>Run summary:</h3><br/><table class=\"wandb\"><tr><td>train/avg_loss</td><td>0.0047</td></tr><tr><td>train/avg_psnr</td><td>23.2678</td></tr><tr><td>train/batch_loss</td><td>0.0005</td></tr><tr><td>train/epoch</td><td>2</td></tr></table><br/></div></div>"
      ],
      "text/plain": [
       "<IPython.core.display.HTML object>"
      ]
     },
     "metadata": {},
     "output_type": "display_data"
    },
    {
     "data": {
      "text/html": [
       "Synced <strong style=\"color:#cdcd00\">experiment_b_frame_gradclip</strong>: <a href=\"https://wandb.ai/codec-crew/DCVC-B-frames/runs/j89gcexz\" target=\"_blank\">https://wandb.ai/codec-crew/DCVC-B-frames/runs/j89gcexz</a><br/>Synced 6 W&B file(s), 0 media file(s), 0 artifact file(s) and 0 other file(s)"
      ],
      "text/plain": [
       "<IPython.core.display.HTML object>"
      ]
     },
     "metadata": {},
     "output_type": "display_data"
    },
    {
     "data": {
      "text/html": [
       "Find logs at: <code>./wandb/run-20220426_114733-j89gcexz/logs</code>"
      ],
      "text/plain": [
       "<IPython.core.display.HTML object>"
      ]
     },
     "metadata": {},
     "output_type": "display_data"
    }
   ],
   "source": [
    "wandb.finish()"
   ]
  },
  {
   "cell_type": "code",
   "execution_count": null,
   "id": "7b6e2dd2",
   "metadata": {},
   "outputs": [],
   "source": []
  }
 ],
 "metadata": {
  "kernelspec": {
   "display_name": "dcvc",
   "language": "python",
   "name": "dcvc"
  },
  "language_info": {
   "codemirror_mode": {
    "name": "ipython",
    "version": 3
   },
   "file_extension": ".py",
   "mimetype": "text/x-python",
   "name": "python",
   "nbconvert_exporter": "python",
   "pygments_lexer": "ipython3",
   "version": "3.8.13"
  }
 },
 "nbformat": 4,
 "nbformat_minor": 5
}
