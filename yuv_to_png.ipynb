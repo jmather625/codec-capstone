{
 "cells": [
  {
   "cell_type": "code",
   "execution_count": 1,
   "metadata": {},
   "outputs": [],
   "source": [
    "import os\n",
    "import pathlib\n",
    "import numpy as np\n",
    "import matplotlib.pyplot as plt"
   ]
  },
  {
   "cell_type": "code",
   "execution_count": 6,
   "metadata": {},
   "outputs": [
    {
     "name": "stdout",
     "output_type": "stream",
     "text": [
      "Making PNGs for Dataset Beauty\n"
     ]
    },
    {
     "name": "stderr",
     "output_type": "stream",
     "text": [
      "ffmpeg version 5.0.1 Copyright (c) 2000-2022 the FFmpeg developers\n",
      "  built with Apple clang version 13.0.0 (clang-1300.0.29.30)\n",
      "  configuration: --prefix=/usr/local/Cellar/ffmpeg/5.0.1 --enable-shared --enable-pthreads --enable-version3 --cc=clang --host-cflags= --host-ldflags= --enable-ffplay --enable-gnutls --enable-gpl --enable-libaom --enable-libbluray --enable-libdav1d --enable-libmp3lame --enable-libopus --enable-librav1e --enable-librist --enable-librubberband --enable-libsnappy --enable-libsrt --enable-libtesseract --enable-libtheora --enable-libvidstab --enable-libvmaf --enable-libvorbis --enable-libvpx --enable-libwebp --enable-libx264 --enable-libx265 --enable-libxml2 --enable-libxvid --enable-lzma --enable-libfontconfig --enable-libfreetype --enable-frei0r --enable-libass --enable-libopencore-amrnb --enable-libopencore-amrwb --enable-libopenjpeg --enable-libspeex --enable-libsoxr --enable-libzmq --enable-libzimg --disable-libjack --disable-indev=jack --enable-videotoolbox\n",
      "  libavutil      57. 17.100 / 57. 17.100\n",
      "  libavcodec     59. 18.100 / 59. 18.100\n",
      "  libavformat    59. 16.100 / 59. 16.100\n",
      "  libavdevice    59.  4.100 / 59.  4.100\n",
      "  libavfilter     8. 24.100 /  8. 24.100\n",
      "  libswscale      6.  4.100 /  6.  4.100\n",
      "  libswresample   4.  3.100 /  4.  3.100\n",
      "  libpostproc    56.  3.100 / 56.  3.100\n",
      "[rawvideo @ 0x7ff445009980] Stream #0: not enough frames to estimate rate; consider increasing probesize\n",
      "[rawvideo @ 0x7ff445009980] Estimating duration from bitrate, this may be inaccurate\n",
      "Input #0, rawvideo, from 'uvg/Beauty_1920x1080_120fps_420_8bit_YUV.yuv':\n",
      "  Duration: 00:00:05.00, start: 0.000000, bitrate: 2985984 kb/s\n",
      "  Stream #0:0: Video: rawvideo (I420 / 0x30323449), yuv420p, 1920x1080, 2985984 kb/s, 120 tbr, 120 tbn\n",
      "Stream mapping:\n",
      "  Stream #0:0 -> #0:0 (rawvideo (native) -> png (native))\n",
      "Press [q] to stop, [?] for help\n",
      "Output #0, image2, to 'Beauty_PNG_1024/im%05d.png':\n",
      "  Metadata:\n",
      "    encoder         : Lavf59.16.100\n",
      "  Stream #0:0: Video: png, rgb24(pc, gbr/unknown/unknown, progressive), 1920x1024, q=2-31, 200 kb/s, 120 fps, 120 tbn\n",
      "    Metadata:\n",
      "      encoder         : Lavc59.18.100 png\n",
      "frame=  600 fps= 17 q=-0.0 Lsize=N/A time=00:00:05.00 bitrate=N/A speed=0.139x    \n",
      "video:2743437kB audio:0kB subtitle:0kB other streams:0kB global headers:0kB muxing overhead: unknown\n"
     ]
    }
   ],
   "source": [
    "datasets = [\n",
    "    'Beauty'\n",
    "]\n",
    "\n",
    "yuvdir = pathlib.Path('./uvg/')\n",
    "for dataset in datasets:\n",
    "    outdir = pathlib.Path(dataset + '_PNG_1024')\n",
    "    inpath = yuvdir / f'{dataset}_1920x1080_120fps_420_8bit_YUV.yuv'\n",
    "#     if outdir.exists():\n",
    "#         print(f'Already did Dataset {dataset}. Skipping...')\n",
    "#         continue\n",
    "    os.makedirs(outdir, exist_ok=True)\n",
    "    \n",
    "    # following crop procedure in README: https://github.com/DeepMC-DCVC/DCVC\n",
    "    cmd = (\n",
    "        'ffmpeg -y -pix_fmt yuv420p -s 1920x1080 -framerate 120 '\n",
    "        f'-i {inpath} '\n",
    "        '-vf crop=1920:1024:0:0 '\n",
    "        f'{outdir}/im%05d.png'\n",
    "    )\n",
    "    print(f'Making PNGs for Dataset {dataset}')\n",
    "    assert os.system(cmd) == 0\n"
   ]
  },
  {
   "cell_type": "code",
   "execution_count": null,
   "metadata": {},
   "outputs": [],
   "source": []
  }
 ],
 "metadata": {
  "kernelspec": {
   "display_name": "Python (ml-env)",
   "language": "python",
   "name": "ml-env"
  },
  "language_info": {
   "codemirror_mode": {
    "name": "ipython",
    "version": 3
   },
   "file_extension": ".py",
   "mimetype": "text/x-python",
   "name": "python",
   "nbconvert_exporter": "python",
   "pygments_lexer": "ipython3",
   "version": "3.9.7"
  },
  "orig_nbformat": 4
 },
 "nbformat": 4,
 "nbformat_minor": 2
}
