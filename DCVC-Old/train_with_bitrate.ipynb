{
 "cells": [
  {
   "cell_type": "code",
   "execution_count": 1,
   "id": "6595e4fe",
   "metadata": {},
   "outputs": [],
   "source": [
    "%load_ext autoreload\n",
    "%autoreload 2"
   ]
  },
  {
   "cell_type": "code",
   "execution_count": 3,
   "id": "de3f3e62",
   "metadata": {},
   "outputs": [],
   "source": [
    "from src.models.DCVC_net import DCVC_net\n",
    "import torch\n",
    "from torchvision import transforms\n",
    "import numpy as np\n",
    "import pathlib\n",
    "import os\n",
    "import matplotlib.pyplot as plt\n",
    "import tqdm\n",
    "import torchnet.meter as meter\n"
   ]
  },
  {
   "cell_type": "code",
   "execution_count": 5,
   "id": "46ba9f51",
   "metadata": {},
   "outputs": [
    {
     "data": {
      "text/plain": [
       "device(type='cpu')"
      ]
     },
     "execution_count": 5,
     "metadata": {},
     "output_type": "execute_result"
    }
   ],
   "source": [
    "LAMBDA = 2048\n",
    "BATCH_SIZE = 4\n",
    "# DATA_DIR = pathlib.Path('/data2/jatin/vimeo_septuplet/sequences')\n",
    "DEVICE = torch.device('cpu')\n",
    "DEVICE"
   ]
  },
  {
   "cell_type": "code",
   "execution_count": 36,
   "id": "4f3b397d",
   "metadata": {},
   "outputs": [],
   "source": [
    "video_net = DCVC_net()"
   ]
  },
  {
   "cell_type": "code",
   "execution_count": 37,
   "id": "de1bd2d6",
   "metadata": {},
   "outputs": [],
   "source": [
    "optimizer = torch.optim.Adam(video_net.parameters(), lr=1e-4)"
   ]
  },
  {
   "cell_type": "code",
   "execution_count": 8,
   "id": "62637e2f",
   "metadata": {},
   "outputs": [],
   "source": [
    "criterion = torch.nn.MSELoss()"
   ]
  },
  {
   "cell_type": "code",
   "execution_count": 38,
   "id": "5f67b8fc",
   "metadata": {},
   "outputs": [
    {
     "name": "stdout",
     "output_type": "stream",
     "text": [
      "The model has 13439734 trainable parameters\n"
     ]
    }
   ],
   "source": [
    "def count_parameters(model):\n",
    "    \"\"\"Return number of parameters in a model\"\"\"\n",
    "    return sum(p.numel() for p in model.parameters() if p.requires_grad)\n",
    "\n",
    "print(f'The model has {count_parameters(video_net)} trainable parameters')"
   ]
  },
  {
   "cell_type": "code",
   "execution_count": 11,
   "id": "423ebe34",
   "metadata": {},
   "outputs": [
    {
     "name": "stdout",
     "output_type": "stream",
     "text": [
      "(1024, 1920, 3)\n"
     ]
    }
   ],
   "source": [
    "img1 = plt.imread(\"../uvg/Beauty_PNG_1024/im00001.png\")\n",
    "img2 = plt.imread(\"../uvg/Beauty_PNG_1024/im00002.png\")\n",
    "img3 = plt.imread(\"../uvg/Beauty_PNG_1024/im00003.png\")\n",
    "\n",
    "print(img1.shape)"
   ]
  },
  {
   "cell_type": "code",
   "execution_count": 12,
   "id": "622700f2",
   "metadata": {},
   "outputs": [],
   "source": [
    "img1 = img1[:128, :128, :]\n",
    "img2 = img2[:128, :128, :]\n",
    "img3 = img3[:128, :128, :]"
   ]
  },
  {
   "cell_type": "code",
   "execution_count": 13,
   "id": "ac7b017c",
   "metadata": {},
   "outputs": [],
   "source": [
    "img1 = torch.FloatTensor(img1.transpose(2, 0, 1)).unsqueeze(0)\n",
    "img2 = torch.FloatTensor(img2.transpose(2, 0, 1)).unsqueeze(0)\n",
    "img3 = torch.FloatTensor(img3.transpose(2, 0, 1)).unsqueeze(0)"
   ]
  },
  {
   "cell_type": "code",
   "execution_count": 39,
   "id": "dfd7b4a8",
   "metadata": {},
   "outputs": [],
   "source": [
    "preds_dict = video_net(img1, img2, \"train_compress\")"
   ]
  },
  {
   "cell_type": "code",
   "execution_count": 40,
   "id": "f79c1267",
   "metadata": {},
   "outputs": [],
   "source": [
    "loss = criterion(preds_dict[\"recon_image\"], img2)\n",
    "loss.backward()\n",
    "optimizer.step()"
   ]
  }
 ],
 "metadata": {
  "interpreter": {
   "hash": "44169066c052695af5fd19d9518487adc444660c2346375501c6220f3d24b6a5"
  },
  "kernelspec": {
   "display_name": "Python (ml-env)",
   "language": "python",
   "name": "python3"
  },
  "language_info": {
   "codemirror_mode": {
    "name": "ipython",
    "version": 3
   },
   "file_extension": ".py",
   "mimetype": "text/x-python",
   "name": "python",
   "nbconvert_exporter": "python",
   "pygments_lexer": "ipython3",
   "version": "3.8.13"
  }
 },
 "nbformat": 4,
 "nbformat_minor": 5
}
