{
 "cells": [
  {
   "cell_type": "code",
   "execution_count": 1,
   "id": "6595e4fe",
   "metadata": {},
   "outputs": [],
   "source": [
    "%load_ext autoreload\n",
    "%autoreload 2"
   ]
  },
  {
   "cell_type": "code",
   "execution_count": 2,
   "id": "de3f3e62",
   "metadata": {},
   "outputs": [
    {
     "name": "stderr",
     "output_type": "stream",
     "text": [
      "/home/jatin/miniconda3/envs/DCVC/lib/python3.8/site-packages/tqdm/auto.py:22: TqdmWarning: IProgress not found. Please update jupyter and ipywidgets. See https://ipywidgets.readthedocs.io/en/stable/user_install.html\n",
      "  from .autonotebook import tqdm as notebook_tqdm\n"
     ]
    }
   ],
   "source": [
    "from src.models.DCVC_net import DCVC_net\n",
    "import torch\n",
    "from torchvision import transforms\n",
    "import numpy as np\n",
    "import pathlib\n",
    "import os\n",
    "import matplotlib.pyplot as plt\n",
    "import wandb\n",
    "import tqdm\n",
    "from torchnet import meter"
   ]
  },
  {
   "cell_type": "code",
   "execution_count": 3,
   "id": "46ba9f51",
   "metadata": {},
   "outputs": [
    {
     "data": {
      "text/plain": [
       "device(type='cuda')"
      ]
     },
     "execution_count": 3,
     "metadata": {},
     "output_type": "execute_result"
    }
   ],
   "source": [
    "BATCH_SIZE = 4\n",
    "DATA_DIRS = [\n",
    "    pathlib.Path('../uvg/Beauty_PNG_1024/'),\n",
    "    pathlib.Path('../uvg/Bosphorus_PNG_1024/'),\n",
    "    pathlib.Path('../uvg/HoneyBee_PNG_1024/'),\n",
    "    pathlib.Path('../uvg/Jockey_PNG_1024/'),\n",
    "    pathlib.Path('../uvg/ReadySetGo_PNG_1024/'),\n",
    "    pathlib.Path('../uvg/ShakeNDry_PNG_1024/'),\n",
    "    pathlib.Path('../uvg/YachtRide_PNG_1024/'),\n",
    "]\n",
    "DEVICE = torch.device('cuda')\n",
    "DEVICE"
   ]
  },
  {
   "cell_type": "code",
   "execution_count": 5,
   "id": "4f3b397d",
   "metadata": {},
   "outputs": [],
   "source": [
    "video_net = DCVC_net()"
   ]
  },
  {
   "cell_type": "code",
   "execution_count": 22,
   "id": "c7626553",
   "metadata": {},
   "outputs": [],
   "source": [
    "# chpt = torch.load('checkpoints/model_dcvc_quality_3_psnr.pth')\n",
    "chpt = torch.load('reproduce-dcvc-lamb-2048-ft/dcvc_epoch=2_psnr=39.108_bpp=0.0807.pt')\n",
    "video_net.load_state_dict(chpt['model'], strict=True)\n",
    "\n",
    "# LOADS OLD WEIGHTS\n",
    "# chpt = torch.load('dcvc-b-frame-convtranspose-fail/dcvc_epoch=4_int.pt')\n",
    "# temporalPriorEncoder = video_net.temporalPriorEncoder\n",
    "# del video_net.temporalPriorEncoder\n",
    "# video_net.load_state_dict(chpt['model'], strict=False)\n",
    "# video_net.temporalPriorEncoder = temporalPriorEncoder\n",
    "\n",
    "video_net = video_net.to(DEVICE)\n",
    "del chpt"
   ]
  },
  {
   "cell_type": "code",
   "execution_count": 23,
   "id": "525a3ba9",
   "metadata": {},
   "outputs": [],
   "source": [
    "class UVGDataset(torch.utils.data.Dataset):\n",
    "    def __init__(self, data_dir, crop_size=None, deterministic=False):\n",
    "        self.data_dir = data_dir\n",
    "        self.crop_size = crop_size\n",
    "        self.deterministic = deterministic\n",
    "        self.numframes = len(os.listdir(data_dir))\n",
    "        if crop_size is not None:\n",
    "            self.transforms = torch.nn.Sequential(\n",
    "                transforms.CenterCrop(crop_size)\n",
    "            )\n",
    "        else:\n",
    "            self.transforms = None\n",
    "       \n",
    "    def __getitem__(self, i):\n",
    "        interval = 1\n",
    "        # this is 1-indexed on disk\n",
    "        i += 1\n",
    "        int_as_str = f'{i}'.zfill(5)\n",
    "        ref = plt.imread(self.data_dir / f'im{int_as_str}.png')\n",
    "        int_as_str = f'{i + interval}'.zfill(5)\n",
    "        im = plt.imread(self.data_dir / f'im{int_as_str}.png')\n",
    "        imgs = [ref, im]\n",
    "\n",
    "        # plt.imread should make inputs in [0, 1] for us\n",
    "        imgs = np.stack(imgs, axis=0)\n",
    "        # bring RGB channels in front\n",
    "        imgs = imgs.transpose(0, 3, 1, 2)\n",
    "        imgs = torch.FloatTensor(imgs)\n",
    "        if self.transforms:\n",
    "            imgs = self.transforms(imgs)\n",
    "        return imgs\n",
    "\n",
    "    def __len__(self):\n",
    "        return self.numframes - 1\n",
    "\n",
    "all_uvg_dl = []\n",
    "for d in DATA_DIRS:\n",
    "    ds = UVGDataset(d, crop_size=640)\n",
    "    dl = torch.utils.data.DataLoader(\n",
    "        ds,\n",
    "        shuffle=True,\n",
    "        batch_size=BATCH_SIZE,\n",
    "        num_workers=6,\n",
    "        prefetch_factor=5\n",
    "    )\n",
    "    all_uvg_dl.append(dl)\n"
   ]
  },
  {
   "cell_type": "code",
   "execution_count": 24,
   "id": "5f67b8fc",
   "metadata": {},
   "outputs": [
    {
     "name": "stdout",
     "output_type": "stream",
     "text": [
      "The model has 7944448 trainable parameters\n"
     ]
    }
   ],
   "source": [
    "def count_parameters(model):\n",
    "    \"\"\"Return number of parameters in a model\"\"\"\n",
    "    return sum(p.numel() for p in model.parameters() if p.requires_grad)\n",
    "\n",
    "print(f'The model has {count_parameters(video_net)} trainable parameters')"
   ]
  },
  {
   "cell_type": "code",
   "execution_count": 25,
   "id": "a3dd62fc",
   "metadata": {},
   "outputs": [],
   "source": [
    "def test_epoch(model, dl, compress_type, max_iters=None):\n",
    "    mse_criterion = torch.nn.MSELoss()\n",
    "    model.train()\n",
    "    \n",
    "    mse_meter = meter.AverageValueMeter()\n",
    "    bpp_meter = meter.AverageValueMeter()\n",
    "    bpp_mv_y_meter = meter.AverageValueMeter()\n",
    "    bpp_mv_z_meter = meter.AverageValueMeter()\n",
    "    bpp_y_meter = meter.AverageValueMeter()\n",
    "    bpp_z_meter = meter.AverageValueMeter()\n",
    "    \n",
    "    pbar = tqdm.tqdm(dl)\n",
    "    for i, x in enumerate(pbar):\n",
    "        x = x.to(DEVICE)\n",
    "        ref = x[:,0]\n",
    "        im = x[:,1]\n",
    "        with torch.no_grad():\n",
    "            preds_dict = model(ref, im, compress_type=compress_type)\n",
    "        preds = preds_dict['recon_image']\n",
    "        bpp = preds_dict['bpp']\n",
    "        \n",
    "        mse_ls = mse_criterion(preds, im)\n",
    "        mse_meter.add(mse_ls.item())\n",
    "        bpp_meter.add(bpp.item())\n",
    "        bpp_mv_y_meter.add(preds_dict['bpp_mv_y'].item())\n",
    "        bpp_mv_z_meter.add(preds_dict['bpp_mv_z'].item())\n",
    "        bpp_y_meter.add(preds_dict['bpp_y'].item())\n",
    "        bpp_z_meter.add(preds_dict['bpp_z'].item())\n",
    "        if i % 1 == 0:\n",
    "            avg_psnr = round(-10.0*np.log10(mse_meter.value()[0]), 6)\n",
    "            avg_bpp = round(bpp_meter.value()[0], 6)\n",
    "            avg_bpp_mv_y = round(bpp_mv_y_meter.value()[0], 6)\n",
    "            avg_bpp_mv_z = round(bpp_mv_z_meter.value()[0], 6)\n",
    "            avg_bpp_y = round(bpp_y_meter.value()[0], 6)\n",
    "            avg_bpp_z = round(bpp_z_meter.value()[0], 6)\n",
    "            msg = (\n",
    "                f'Avg PSNR: {avg_psnr}, bpp: {avg_bpp}, bpp_mv_y: {avg_bpp_mv_y}, avg_bpp_mv_z: {avg_bpp_mv_z} '\n",
    "                f'avg_bpp_y: {avg_bpp_y}, avg_bpp_z: {avg_bpp_z}'\n",
    "            )\n",
    "            pbar.set_description(msg)\n",
    "            \n",
    "        if max_iters is not None and i == max_iters:\n",
    "            break\n",
    "    \n",
    "    avg_psnr = -10.0*np.log10(mse_meter.value()[0])\n",
    "    avg_bpp = bpp_meter.value()[0]                     \n",
    "    return avg_psnr, avg_bpp\n",
    "            "
   ]
  },
  {
   "cell_type": "code",
   "execution_count": 26,
   "id": "126a9bf2",
   "metadata": {},
   "outputs": [
    {
     "name": "stdout",
     "output_type": "stream",
     "text": [
      "RUNNING: ../uvg/Beauty_PNG_1024\n"
     ]
    },
    {
     "name": "stderr",
     "output_type": "stream",
     "text": [
      "Avg PSNR: 34.863215, bpp: 0.063536, bpp_mv_y: 0.024459, avg_bpp_mv_z: 0.000602 avg_bpp_y: 0.037669, avg_bpp_z: 0.000805:   7%|▋         | 10/150 [00:07<01:46,  1.32it/s]\n"
     ]
    },
    {
     "name": "stdout",
     "output_type": "stream",
     "text": [
      "RUNNING: ../uvg/Bosphorus_PNG_1024\n"
     ]
    },
    {
     "name": "stderr",
     "output_type": "stream",
     "text": [
      "Avg PSNR: 40.716065, bpp: 0.026453, bpp_mv_y: 0.010586, avg_bpp_mv_z: 0.000608 avg_bpp_y: 0.01434, avg_bpp_z: 0.000918:   7%|▋         | 10/150 [00:07<01:46,  1.31it/s] \n"
     ]
    },
    {
     "name": "stdout",
     "output_type": "stream",
     "text": [
      "RUNNING: ../uvg/HoneyBee_PNG_1024\n"
     ]
    },
    {
     "name": "stderr",
     "output_type": "stream",
     "text": [
      "Avg PSNR: 37.39349, bpp: 0.01756, bpp_mv_y: 0.011401, avg_bpp_mv_z: 0.000514 avg_bpp_y: 0.005114, avg_bpp_z: 0.000532:   7%|▋         | 10/150 [00:07<01:48,  1.29it/s] \n"
     ]
    },
    {
     "name": "stdout",
     "output_type": "stream",
     "text": [
      "RUNNING: ../uvg/Jockey_PNG_1024\n"
     ]
    },
    {
     "name": "stderr",
     "output_type": "stream",
     "text": [
      "Avg PSNR: 33.287528, bpp: 0.121161, bpp_mv_y: 0.044937, avg_bpp_mv_z: 0.001129 avg_bpp_y: 0.073995, avg_bpp_z: 0.0011:   7%|▋         | 10/150 [00:07<01:46,  1.31it/s]  \n"
     ]
    },
    {
     "name": "stdout",
     "output_type": "stream",
     "text": [
      "RUNNING: ../uvg/ReadySetGo_PNG_1024\n"
     ]
    },
    {
     "name": "stderr",
     "output_type": "stream",
     "text": [
      "Avg PSNR: 37.343446, bpp: 0.117792, bpp_mv_y: 0.029257, avg_bpp_mv_z: 0.00127 avg_bpp_y: 0.085918, avg_bpp_z: 0.001347:   7%|▋         | 10/150 [00:07<01:46,  1.32it/s] \n"
     ]
    },
    {
     "name": "stdout",
     "output_type": "stream",
     "text": [
      "RUNNING: ../uvg/ShakeNDry_PNG_1024\n"
     ]
    },
    {
     "name": "stderr",
     "output_type": "stream",
     "text": [
      "Avg PSNR: 35.433665, bpp: 0.199458, bpp_mv_y: 0.052192, avg_bpp_mv_z: 0.001112 avg_bpp_y: 0.144622, avg_bpp_z: 0.001532:  13%|█▎        | 10/75 [00:07<00:50,  1.29it/s]\n"
     ]
    },
    {
     "name": "stdout",
     "output_type": "stream",
     "text": [
      "RUNNING: ../uvg/YachtRide_PNG_1024\n"
     ]
    },
    {
     "name": "stderr",
     "output_type": "stream",
     "text": [
      "Avg PSNR: 38.318923, bpp: 0.099404, bpp_mv_y: 0.026996, avg_bpp_mv_z: 0.000942 avg_bpp_y: 0.069715, avg_bpp_z: 0.001751:   7%|▋         | 10/150 [00:07<01:48,  1.29it/s]\n"
     ]
    }
   ],
   "source": [
    "# US\n",
    "psnrs = []\n",
    "bpps = []\n",
    "for p, dl in zip(DATA_DIRS, all_uvg_dl):\n",
    "    print(\"RUNNING:\", p)\n",
    "    psnr, bpp = test_epoch(video_net, dl, compress_type='full', max_iters=10)\n",
    "    psnrs.append(psnr)\n",
    "    bpps.append(bpp)"
   ]
  },
  {
   "cell_type": "code",
   "execution_count": 27,
   "id": "688aca3a",
   "metadata": {},
   "outputs": [
    {
     "data": {
      "text/plain": [
       "(36.76519039425703, 0.09219490400479212)"
      ]
     },
     "execution_count": 27,
     "metadata": {},
     "output_type": "execute_result"
    }
   ],
   "source": [
    "np.mean(psnrs), np.mean(bpps)"
   ]
  },
  {
   "cell_type": "code",
   "execution_count": 19,
   "id": "1fa66def",
   "metadata": {},
   "outputs": [
    {
     "name": "stdout",
     "output_type": "stream",
     "text": [
      "RUNNING: ../uvg/Beauty_PNG_1024\n"
     ]
    },
    {
     "name": "stderr",
     "output_type": "stream",
     "text": [
      "Avg PSNR: 35.721022, bpp: 0.072026, bpp_mv_y: 0.026973, avg_bpp_mv_z: 0.000756 avg_bpp_y: 0.04308, avg_bpp_z: 0.001217:   7%|▋         | 10/150 [00:07<01:49,  1.28it/s]\n"
     ]
    },
    {
     "name": "stdout",
     "output_type": "stream",
     "text": [
      "RUNNING: ../uvg/Bosphorus_PNG_1024\n"
     ]
    },
    {
     "name": "stderr",
     "output_type": "stream",
     "text": [
      "Avg PSNR: 41.192818, bpp: 0.024123, bpp_mv_y: 0.009814, avg_bpp_mv_z: 0.000766 avg_bpp_y: 0.012507, avg_bpp_z: 0.001035:   7%|▋         | 10/150 [00:07<01:45,  1.33it/s]\n"
     ]
    },
    {
     "name": "stdout",
     "output_type": "stream",
     "text": [
      "RUNNING: ../uvg/HoneyBee_PNG_1024\n"
     ]
    },
    {
     "name": "stderr",
     "output_type": "stream",
     "text": [
      "Avg PSNR: 38.025866, bpp: 0.019324, bpp_mv_y: 0.011802, avg_bpp_mv_z: 0.000674 avg_bpp_y: 0.005931, avg_bpp_z: 0.000916:   7%|▋         | 10/150 [00:07<01:47,  1.30it/s]\n"
     ]
    },
    {
     "name": "stdout",
     "output_type": "stream",
     "text": [
      "RUNNING: ../uvg/Jockey_PNG_1024\n"
     ]
    },
    {
     "name": "stderr",
     "output_type": "stream",
     "text": [
      "Avg PSNR: 38.360225, bpp: 0.07145, bpp_mv_y: 0.021946, avg_bpp_mv_z: 0.000815 avg_bpp_y: 0.047631, avg_bpp_z: 0.001057:   7%|▋         | 10/150 [00:07<01:45,  1.32it/s] \n"
     ]
    },
    {
     "name": "stdout",
     "output_type": "stream",
     "text": [
      "RUNNING: ../uvg/ReadySetGo_PNG_1024\n"
     ]
    },
    {
     "name": "stderr",
     "output_type": "stream",
     "text": [
      "Avg PSNR: 39.914104, bpp: 0.077235, bpp_mv_y: 0.019839, avg_bpp_mv_z: 0.001058 avg_bpp_y: 0.054994, avg_bpp_z: 0.001344:   7%|▋         | 10/150 [00:07<01:46,  1.32it/s]\n"
     ]
    },
    {
     "name": "stdout",
     "output_type": "stream",
     "text": [
      "RUNNING: ../uvg/ShakeNDry_PNG_1024\n"
     ]
    },
    {
     "name": "stderr",
     "output_type": "stream",
     "text": [
      "Avg PSNR: 36.971907, bpp: 0.223654, bpp_mv_y: 0.042442, avg_bpp_mv_z: 0.001081 avg_bpp_y: 0.178626, avg_bpp_z: 0.001505:  13%|█▎        | 10/75 [00:07<00:50,  1.28it/s]\n"
     ]
    },
    {
     "name": "stdout",
     "output_type": "stream",
     "text": [
      "RUNNING: ../uvg/YachtRide_PNG_1024\n"
     ]
    },
    {
     "name": "stderr",
     "output_type": "stream",
     "text": [
      "Avg PSNR: 39.980588, bpp: 0.122437, bpp_mv_y: 0.024519, avg_bpp_mv_z: 0.001016 avg_bpp_y: 0.09509, avg_bpp_z: 0.001812:   7%|▋         | 10/150 [00:07<01:46,  1.32it/s]\n"
     ]
    }
   ],
   "source": [
    "psnrs = []\n",
    "bpps = []\n",
    "for p, dl in zip(DATA_DIRS, all_uvg_dl):\n",
    "    print(\"RUNNING:\", p)\n",
    "    psnr, bpp = test_epoch(video_net, dl, compress_type='full', max_iters=10)\n",
    "    psnrs.append(psnr)\n",
    "    bpps.append(bpp)"
   ]
  },
  {
   "cell_type": "code",
   "execution_count": 20,
   "id": "359e9b83",
   "metadata": {},
   "outputs": [
    {
     "data": {
      "text/plain": [
       "(38.595218571428575, 0.08717842857142857)"
      ]
     },
     "execution_count": 20,
     "metadata": {},
     "output_type": "execute_result"
    }
   ],
   "source": [
    "# THEM\n",
    "psnrs = [35.721022, 41.192818, 38.025866, 38.360225, 39.914104, 36.971907, 39.980588]\n",
    "\n",
    "bpps = [0.072026, 0.024123, 0.019324, 0.07145, 0.077235, 0.223654, 0.122437]\n",
    "\n",
    "np.mean(psnrs), np.mean(bpps)"
   ]
  },
  {
   "cell_type": "code",
   "execution_count": null,
   "id": "01a8f473",
   "metadata": {},
   "outputs": [],
   "source": []
  }
 ],
 "metadata": {
  "kernelspec": {
   "display_name": "dcvc",
   "language": "python",
   "name": "dcvc"
  },
  "language_info": {
   "codemirror_mode": {
    "name": "ipython",
    "version": 3
   },
   "file_extension": ".py",
   "mimetype": "text/x-python",
   "name": "python",
   "nbconvert_exporter": "python",
   "pygments_lexer": "ipython3",
   "version": "3.8.13"
  }
 },
 "nbformat": 4,
 "nbformat_minor": 5
}
