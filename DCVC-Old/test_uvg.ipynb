{
 "cells": [
  {
   "cell_type": "code",
   "execution_count": 2,
   "id": "6595e4fe",
   "metadata": {},
   "outputs": [],
   "source": [
    "%load_ext autoreload\n",
    "%autoreload 2"
   ]
  },
  {
   "cell_type": "code",
   "execution_count": 3,
   "id": "de3f3e62",
   "metadata": {},
   "outputs": [
    {
     "name": "stderr",
     "output_type": "stream",
     "text": [
      "/home/jatin/miniconda3/envs/DCVC/lib/python3.8/site-packages/tqdm/auto.py:22: TqdmWarning: IProgress not found. Please update jupyter and ipywidgets. See https://ipywidgets.readthedocs.io/en/stable/user_install.html\n",
      "  from .autonotebook import tqdm as notebook_tqdm\n"
     ]
    }
   ],
   "source": [
    "from src.models.DCVC_net import DCVC_net\n",
    "import torch\n",
    "from torchvision import transforms\n",
    "import numpy as np\n",
    "import pathlib\n",
    "import os\n",
    "import matplotlib.pyplot as plt\n",
    "import wandb\n",
    "import tqdm\n",
    "from torchnet import meter"
   ]
  },
  {
   "cell_type": "code",
   "execution_count": 4,
   "id": "46ba9f51",
   "metadata": {},
   "outputs": [
    {
     "data": {
      "text/plain": [
       "device(type='cuda')"
      ]
     },
     "execution_count": 4,
     "metadata": {},
     "output_type": "execute_result"
    }
   ],
   "source": [
    "BATCH_SIZE = 4\n",
    "DATA_DIRS = [\n",
    "    pathlib.Path('../uvg/Beauty_PNG_1024/'),\n",
    "    pathlib.Path('../uvg/Bosphorus_PNG_1024/'),\n",
    "    pathlib.Path('../uvg/HoneyBee_PNG_1024/'),\n",
    "    pathlib.Path('../uvg/Jockey_PNG_1024/'),\n",
    "    pathlib.Path('../uvg/ReadySetGo_PNG_1024/'),\n",
    "    pathlib.Path('../uvg/ShakeNDry_PNG_1024/'),\n",
    "    pathlib.Path('../uvg/YachtRide_PNG_1024/'),\n",
    "]\n",
    "DEVICE = torch.device('cuda')\n",
    "DEVICE"
   ]
  },
  {
   "cell_type": "code",
   "execution_count": 5,
   "id": "4f3b397d",
   "metadata": {},
   "outputs": [],
   "source": [
    "video_net = DCVC_net()"
   ]
  },
  {
   "cell_type": "code",
   "execution_count": 6,
   "id": "c7626553",
   "metadata": {},
   "outputs": [],
   "source": [
    "chpt = torch.load('checkpoints/model_dcvc_quality_3_psnr.pth')\n",
    "# chpt = torch.load('reproduce-dcvc-lamb-2048-ft/dcvc_epoch=2_psnr=39.108_bpp=0.0807.pt')\n",
    "# video_net.load_state_dict(chpt['model'], strict=True)\n",
    "video_net.load_state_dict(chpt, strict=True)\n",
    "\n",
    "# LOADS OLD WEIGHTS\n",
    "# chpt = torch.load('dcvc-b-frame-convtranspose-fail/dcvc_epoch=4_int.pt')\n",
    "# temporalPriorEncoder = video_net.temporalPriorEncoder\n",
    "# del video_net.temporalPriorEncoder\n",
    "# video_net.load_state_dict(chpt['model'], strict=False)\n",
    "# video_net.temporalPriorEncoder = temporalPriorEncoder\n",
    "\n",
    "video_net = video_net.to(DEVICE)\n",
    "del chpt"
   ]
  },
  {
   "cell_type": "code",
   "execution_count": 7,
   "id": "525a3ba9",
   "metadata": {},
   "outputs": [],
   "source": [
    "class UVGDataset(torch.utils.data.Dataset):\n",
    "    def __init__(self, data_dir, crop_size=None, deterministic=False):\n",
    "        self.data_dir = data_dir\n",
    "        self.crop_size = crop_size\n",
    "        self.deterministic = deterministic\n",
    "        self.numframes = len(os.listdir(data_dir))\n",
    "        if crop_size is not None:\n",
    "            self.transforms = torch.nn.Sequential(\n",
    "                transforms.CenterCrop(crop_size)\n",
    "            )\n",
    "        else:\n",
    "            self.transforms = None\n",
    "       \n",
    "    def __getitem__(self, i):\n",
    "        interval = 1\n",
    "        # this is 1-indexed on disk\n",
    "        i += 1\n",
    "        int_as_str = f'{i}'.zfill(5)\n",
    "        ref = plt.imread(self.data_dir / f'im{int_as_str}.png')\n",
    "        int_as_str = f'{i + interval}'.zfill(5)\n",
    "        im = plt.imread(self.data_dir / f'im{int_as_str}.png')\n",
    "        imgs = [ref, im]\n",
    "\n",
    "        # plt.imread should make inputs in [0, 1] for us\n",
    "        imgs = np.stack(imgs, axis=0)\n",
    "        # bring RGB channels in front\n",
    "        imgs = imgs.transpose(0, 3, 1, 2)\n",
    "        imgs = torch.FloatTensor(imgs)\n",
    "        if self.transforms:\n",
    "            imgs = self.transforms(imgs)\n",
    "        return imgs\n",
    "\n",
    "    def __len__(self):\n",
    "        return self.numframes - 1\n",
    "\n",
    "all_uvg_dl = []\n",
    "for d in DATA_DIRS:\n",
    "    ds = UVGDataset(d, crop_size=640)\n",
    "    dl = torch.utils.data.DataLoader(\n",
    "        ds,\n",
    "        shuffle=True,\n",
    "        batch_size=BATCH_SIZE,\n",
    "        num_workers=6,\n",
    "        prefetch_factor=5\n",
    "    )\n",
    "    all_uvg_dl.append(dl)\n"
   ]
  },
  {
   "cell_type": "code",
   "execution_count": 8,
   "id": "5f67b8fc",
   "metadata": {},
   "outputs": [
    {
     "name": "stdout",
     "output_type": "stream",
     "text": [
      "The model has 7944448 trainable parameters\n"
     ]
    }
   ],
   "source": [
    "def count_parameters(model):\n",
    "    \"\"\"Return number of parameters in a model\"\"\"\n",
    "    return sum(p.numel() for p in model.parameters() if p.requires_grad)\n",
    "\n",
    "print(f'The model has {count_parameters(video_net)} trainable parameters')"
   ]
  },
  {
   "cell_type": "code",
   "execution_count": 9,
   "id": "a3dd62fc",
   "metadata": {},
   "outputs": [],
   "source": [
    "def test_epoch(model, dl, compress_type, max_iters=None):\n",
    "    mse_criterion = torch.nn.MSELoss()\n",
    "    model.train()\n",
    "    \n",
    "    mse_meter = meter.AverageValueMeter()\n",
    "    bpp_meter = meter.AverageValueMeter()\n",
    "    bpp_mv_y_meter = meter.AverageValueMeter()\n",
    "    bpp_mv_z_meter = meter.AverageValueMeter()\n",
    "    bpp_y_meter = meter.AverageValueMeter()\n",
    "    bpp_z_meter = meter.AverageValueMeter()\n",
    "    \n",
    "    pbar = tqdm.tqdm(dl)\n",
    "    for i, x in enumerate(pbar):\n",
    "        x = x.to(DEVICE)\n",
    "        ref = x[:,0]\n",
    "        im = x[:,1]\n",
    "        with torch.no_grad():\n",
    "            preds_dict = model(ref, im, compress_type=compress_type)\n",
    "        preds = preds_dict['recon_image']\n",
    "        bpp = preds_dict['bpp']\n",
    "        \n",
    "        mse_ls = mse_criterion(preds, im)\n",
    "        mse_meter.add(mse_ls.item())\n",
    "        bpp_meter.add(bpp.item())\n",
    "        bpp_mv_y_meter.add(preds_dict['bpp_mv_y'].item())\n",
    "        bpp_mv_z_meter.add(preds_dict['bpp_mv_z'].item())\n",
    "        bpp_y_meter.add(preds_dict['bpp_y'].item())\n",
    "        bpp_z_meter.add(preds_dict['bpp_z'].item())\n",
    "        if i % 1 == 0:\n",
    "            avg_psnr = round(-10.0*np.log10(mse_meter.value()[0]), 6)\n",
    "            avg_bpp = round(bpp_meter.value()[0], 6)\n",
    "            avg_bpp_mv_y = round(bpp_mv_y_meter.value()[0], 6)\n",
    "            avg_bpp_mv_z = round(bpp_mv_z_meter.value()[0], 6)\n",
    "            avg_bpp_y = round(bpp_y_meter.value()[0], 6)\n",
    "            avg_bpp_z = round(bpp_z_meter.value()[0], 6)\n",
    "            msg = (\n",
    "                f'Avg PSNR: {avg_psnr}, bpp: {avg_bpp}, bpp_mv_y: {avg_bpp_mv_y}, avg_bpp_mv_z: {avg_bpp_mv_z} '\n",
    "                f'avg_bpp_y: {avg_bpp_y}, avg_bpp_z: {avg_bpp_z}'\n",
    "            )\n",
    "            pbar.set_description(msg)\n",
    "            \n",
    "        if max_iters is not None and i == max_iters:\n",
    "            break\n",
    "    \n",
    "    avg_psnr = -10.0*np.log10(mse_meter.value()[0])\n",
    "    avg_bpp = bpp_meter.value()[0]                     \n",
    "    return avg_psnr, avg_bpp\n",
    "            "
   ]
  },
  {
   "cell_type": "code",
   "execution_count": 10,
   "id": "126a9bf2",
   "metadata": {},
   "outputs": [
    {
     "name": "stdout",
     "output_type": "stream",
     "text": [
      "RUNNING: ../uvg/Beauty_PNG_1024\n"
     ]
    },
    {
     "name": "stderr",
     "output_type": "stream",
     "text": [
      "Avg PSNR: 35.792831, bpp: 0.06993, bpp_mv_y: 0.026319, avg_bpp_mv_z: 0.000757 avg_bpp_y: 0.041638, avg_bpp_z: 0.001215:   3%|▎         | 5/150 [00:04<02:15,  1.07it/s] \n"
     ]
    },
    {
     "ename": "KeyboardInterrupt",
     "evalue": "",
     "output_type": "error",
     "traceback": [
      "\u001b[0;31m---------------------------------------------------------------------------\u001b[0m",
      "\u001b[0;31mKeyboardInterrupt\u001b[0m                         Traceback (most recent call last)",
      "Input \u001b[0;32mIn [10]\u001b[0m, in \u001b[0;36m<cell line: 4>\u001b[0;34m()\u001b[0m\n\u001b[1;32m      4\u001b[0m \u001b[38;5;28;01mfor\u001b[39;00m p, dl \u001b[38;5;129;01min\u001b[39;00m \u001b[38;5;28mzip\u001b[39m(DATA_DIRS, all_uvg_dl):\n\u001b[1;32m      5\u001b[0m     \u001b[38;5;28mprint\u001b[39m(\u001b[38;5;124m\"\u001b[39m\u001b[38;5;124mRUNNING:\u001b[39m\u001b[38;5;124m\"\u001b[39m, p)\n\u001b[0;32m----> 6\u001b[0m     psnr, bpp \u001b[38;5;241m=\u001b[39m \u001b[43mtest_epoch\u001b[49m\u001b[43m(\u001b[49m\u001b[43mvideo_net\u001b[49m\u001b[43m,\u001b[49m\u001b[43m \u001b[49m\u001b[43mdl\u001b[49m\u001b[43m,\u001b[49m\u001b[43m \u001b[49m\u001b[43mcompress_type\u001b[49m\u001b[38;5;241;43m=\u001b[39;49m\u001b[38;5;124;43m'\u001b[39;49m\u001b[38;5;124;43mfull\u001b[39;49m\u001b[38;5;124;43m'\u001b[39;49m\u001b[43m,\u001b[49m\u001b[43m \u001b[49m\u001b[43mmax_iters\u001b[49m\u001b[38;5;241;43m=\u001b[39;49m\u001b[38;5;241;43m10\u001b[39;49m\u001b[43m)\u001b[49m\n\u001b[1;32m      7\u001b[0m     psnrs\u001b[38;5;241m.\u001b[39mappend(psnr)\n\u001b[1;32m      8\u001b[0m     bpps\u001b[38;5;241m.\u001b[39mappend(bpp)\n",
      "Input \u001b[0;32mIn [9]\u001b[0m, in \u001b[0;36mtest_epoch\u001b[0;34m(model, dl, compress_type, max_iters)\u001b[0m\n\u001b[1;32m     20\u001b[0m bpp \u001b[38;5;241m=\u001b[39m preds_dict[\u001b[38;5;124m'\u001b[39m\u001b[38;5;124mbpp\u001b[39m\u001b[38;5;124m'\u001b[39m]\n\u001b[1;32m     22\u001b[0m mse_ls \u001b[38;5;241m=\u001b[39m mse_criterion(preds, im)\n\u001b[0;32m---> 23\u001b[0m mse_meter\u001b[38;5;241m.\u001b[39madd(\u001b[43mmse_ls\u001b[49m\u001b[38;5;241;43m.\u001b[39;49m\u001b[43mitem\u001b[49m\u001b[43m(\u001b[49m\u001b[43m)\u001b[49m)\n\u001b[1;32m     24\u001b[0m bpp_meter\u001b[38;5;241m.\u001b[39madd(bpp\u001b[38;5;241m.\u001b[39mitem())\n\u001b[1;32m     25\u001b[0m bpp_mv_y_meter\u001b[38;5;241m.\u001b[39madd(preds_dict[\u001b[38;5;124m'\u001b[39m\u001b[38;5;124mbpp_mv_y\u001b[39m\u001b[38;5;124m'\u001b[39m]\u001b[38;5;241m.\u001b[39mitem())\n",
      "\u001b[0;31mKeyboardInterrupt\u001b[0m: "
     ]
    }
   ],
   "source": [
    "# US\n",
    "psnrs = []\n",
    "bpps = []\n",
    "for p, dl in zip(DATA_DIRS, all_uvg_dl):\n",
    "    print(\"RUNNING:\", p)\n",
    "    psnr, bpp = test_epoch(video_net, dl, compress_type='full', max_iters=10)\n",
    "    psnrs.append(psnr)\n",
    "    bpps.append(bpp)"
   ]
  },
  {
   "cell_type": "code",
   "execution_count": 27,
   "id": "688aca3a",
   "metadata": {},
   "outputs": [
    {
     "data": {
      "text/plain": [
       "(36.76519039425703, 0.09219490400479212)"
      ]
     },
     "execution_count": 27,
     "metadata": {},
     "output_type": "execute_result"
    }
   ],
   "source": [
    "np.mean(psnrs), np.mean(bpps)"
   ]
  },
  {
   "cell_type": "code",
   "execution_count": 11,
   "id": "1fa66def",
   "metadata": {},
   "outputs": [
    {
     "name": "stdout",
     "output_type": "stream",
     "text": [
      "RUNNING: ../uvg/Beauty_PNG_1024\n"
     ]
    },
    {
     "name": "stderr",
     "output_type": "stream",
     "text": [
      "Avg PSNR: 35.808189, bpp: 0.071011, bpp_mv_y: 0.027134, avg_bpp_mv_z: 0.000756 avg_bpp_y: 0.041912, avg_bpp_z: 0.001209:   7%|▋         | 10/150 [00:07<01:45,  1.32it/s]\n"
     ]
    },
    {
     "name": "stdout",
     "output_type": "stream",
     "text": [
      "RUNNING: ../uvg/Bosphorus_PNG_1024\n"
     ]
    },
    {
     "name": "stderr",
     "output_type": "stream",
     "text": [
      "Avg PSNR: 41.205318, bpp: 0.024956, bpp_mv_y: 0.009829, avg_bpp_mv_z: 0.000772 avg_bpp_y: 0.013315, avg_bpp_z: 0.001041:   7%|▋         | 10/150 [00:07<01:46,  1.31it/s]\n"
     ]
    },
    {
     "name": "stdout",
     "output_type": "stream",
     "text": [
      "RUNNING: ../uvg/HoneyBee_PNG_1024\n"
     ]
    },
    {
     "name": "stderr",
     "output_type": "stream",
     "text": [
      "Avg PSNR: 38.030703, bpp: 0.018712, bpp_mv_y: 0.011703, avg_bpp_mv_z: 0.000676 avg_bpp_y: 0.00543, avg_bpp_z: 0.000903:   7%|▋         | 10/150 [00:07<01:48,  1.29it/s] \n"
     ]
    },
    {
     "name": "stdout",
     "output_type": "stream",
     "text": [
      "RUNNING: ../uvg/Jockey_PNG_1024\n"
     ]
    },
    {
     "name": "stderr",
     "output_type": "stream",
     "text": [
      "Avg PSNR: 38.395201, bpp: 0.06898, bpp_mv_y: 0.021074, avg_bpp_mv_z: 0.00084 avg_bpp_y: 0.045993, avg_bpp_z: 0.001073:   7%|▋         | 10/150 [00:07<01:46,  1.31it/s]  \n"
     ]
    },
    {
     "name": "stdout",
     "output_type": "stream",
     "text": [
      "RUNNING: ../uvg/ReadySetGo_PNG_1024\n"
     ]
    },
    {
     "name": "stderr",
     "output_type": "stream",
     "text": [
      "Avg PSNR: 40.021042, bpp: 0.07852, bpp_mv_y: 0.020447, avg_bpp_mv_z: 0.001086 avg_bpp_y: 0.055624, avg_bpp_z: 0.001363:   7%|▋         | 10/150 [00:07<01:46,  1.31it/s]\n"
     ]
    },
    {
     "name": "stdout",
     "output_type": "stream",
     "text": [
      "RUNNING: ../uvg/ShakeNDry_PNG_1024\n"
     ]
    },
    {
     "name": "stderr",
     "output_type": "stream",
     "text": [
      "Avg PSNR: 37.064192, bpp: 0.194562, bpp_mv_y: 0.039337, avg_bpp_mv_z: 0.001045 avg_bpp_y: 0.152696, avg_bpp_z: 0.001484:  13%|█▎        | 10/75 [00:07<00:50,  1.28it/s]\n"
     ]
    },
    {
     "name": "stdout",
     "output_type": "stream",
     "text": [
      "RUNNING: ../uvg/YachtRide_PNG_1024\n"
     ]
    },
    {
     "name": "stderr",
     "output_type": "stream",
     "text": [
      "Avg PSNR: 40.224215, bpp: 0.104782, bpp_mv_y: 0.02252, avg_bpp_mv_z: 0.000996 avg_bpp_y: 0.079532, avg_bpp_z: 0.001734:   7%|▋         | 10/150 [00:07<01:50,  1.27it/s]\n"
     ]
    }
   ],
   "source": [
    "psnrs = []\n",
    "bpps = []\n",
    "for p, dl in zip(DATA_DIRS, all_uvg_dl):\n",
    "    print(\"RUNNING:\", p)\n",
    "    psnr, bpp = test_epoch(video_net, dl, compress_type='full', max_iters=10)\n",
    "    psnrs.append(psnr)\n",
    "    bpps.append(bpp)"
   ]
  },
  {
   "cell_type": "code",
   "execution_count": 12,
   "id": "8a577948",
   "metadata": {},
   "outputs": [
    {
     "data": {
      "text/plain": [
       "(38.6784086338597, 0.08021740375884942)"
      ]
     },
     "execution_count": 12,
     "metadata": {},
     "output_type": "execute_result"
    }
   ],
   "source": [
    "np.mean(psnrs), np.mean(bpps)"
   ]
  },
  {
   "cell_type": "code",
   "execution_count": null,
   "id": "01a8f473",
   "metadata": {},
   "outputs": [],
   "source": []
  }
 ],
 "metadata": {
  "kernelspec": {
   "display_name": "dcvc",
   "language": "python",
   "name": "dcvc"
  },
  "language_info": {
   "codemirror_mode": {
    "name": "ipython",
    "version": 3
   },
   "file_extension": ".py",
   "mimetype": "text/x-python",
   "name": "python",
   "nbconvert_exporter": "python",
   "pygments_lexer": "ipython3",
   "version": "3.8.13"
  }
 },
 "nbformat": 4,
 "nbformat_minor": 5
}
