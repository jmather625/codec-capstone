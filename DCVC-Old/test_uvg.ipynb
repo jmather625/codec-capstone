{
 "cells": [
  {
   "cell_type": "code",
   "execution_count": 1,
   "id": "6595e4fe",
   "metadata": {},
   "outputs": [],
   "source": [
    "%load_ext autoreload\n",
    "%autoreload 2"
   ]
  },
  {
   "cell_type": "code",
   "execution_count": 2,
   "id": "de3f3e62",
   "metadata": {},
   "outputs": [
    {
     "name": "stderr",
     "output_type": "stream",
     "text": [
      "/home/jatin/miniconda3/envs/DCVC/lib/python3.8/site-packages/tqdm/auto.py:22: TqdmWarning: IProgress not found. Please update jupyter and ipywidgets. See https://ipywidgets.readthedocs.io/en/stable/user_install.html\n",
      "  from .autonotebook import tqdm as notebook_tqdm\n"
     ]
    }
   ],
   "source": [
    "from src.models.DCVC_net import DCVC_net\n",
    "import torch\n",
    "from torchvision import transforms\n",
    "import numpy as np\n",
    "import pathlib\n",
    "import os\n",
    "import matplotlib.pyplot as plt\n",
    "import wandb\n",
    "import tqdm\n",
    "from torchnet import meter"
   ]
  },
  {
   "cell_type": "code",
   "execution_count": 3,
   "id": "46ba9f51",
   "metadata": {},
   "outputs": [
    {
     "data": {
      "text/plain": [
       "device(type='cuda')"
      ]
     },
     "execution_count": 3,
     "metadata": {},
     "output_type": "execute_result"
    }
   ],
   "source": [
    "BATCH_SIZE = 4\n",
    "DATA_DIRS = [\n",
    "    pathlib.Path('../uvg/Beauty_PNG_1024/'),\n",
    "    pathlib.Path('../uvg/Bosphorus_PNG_1024/'),\n",
    "    pathlib.Path('../uvg/HoneyBee_PNG_1024/'),\n",
    "    pathlib.Path('../uvg/Jockey_PNG_1024/'),\n",
    "    pathlib.Path('../uvg/ReadySetGo_PNG_1024/'),\n",
    "    pathlib.Path('../uvg/ShakeNDry_PNG_1024/'),\n",
    "    pathlib.Path('../uvg/YachtRide_PNG_1024/'),\n",
    "]\n",
    "DEVICE = torch.device('cuda')\n",
    "DEVICE"
   ]
  },
  {
   "cell_type": "code",
   "execution_count": 4,
   "id": "4f3b397d",
   "metadata": {},
   "outputs": [],
   "source": [
    "video_net = DCVC_net()"
   ]
  },
  {
   "cell_type": "code",
   "execution_count": 7,
   "id": "c7626553",
   "metadata": {},
   "outputs": [],
   "source": [
    "chpt = torch.load('checkpoints/model_dcvc_quality_3_psnr.pth')\n",
    "video_net.load_state_dict(chpt, strict=True)\n",
    "# chpt = torch.load('reproduce-dcvc-lamb-2048-ft/dcvc_epoch=2_psnr=39.108_bpp=0.0807.pt')\n",
    "# video_net.load_state_dict(chpt['model'], strict=True)\n",
    "\n",
    "# LOADS OLD WEIGHTS\n",
    "# chpt = torch.load('dcvc-b-frame-convtranspose-fail/dcvc_epoch=4_int.pt')\n",
    "# temporalPriorEncoder = video_net.temporalPriorEncoder\n",
    "# del video_net.temporalPriorEncoder\n",
    "# video_net.load_state_dict(chpt['model'], strict=False)\n",
    "# video_net.temporalPriorEncoder = temporalPriorEncoder\n",
    "\n",
    "video_net = video_net.to(DEVICE)\n",
    "del chpt"
   ]
  },
  {
   "cell_type": "code",
   "execution_count": 8,
   "id": "525a3ba9",
   "metadata": {},
   "outputs": [],
   "source": [
    "class UVGDataset(torch.utils.data.Dataset):\n",
    "    def __init__(self, data_dir, crop_size=None, deterministic=False):\n",
    "        self.data_dir = data_dir\n",
    "        self.crop_size = crop_size\n",
    "        self.deterministic = deterministic\n",
    "        self.numframes = len(os.listdir(data_dir))\n",
    "        if crop_size is not None:\n",
    "            self.transforms = torch.nn.Sequential(\n",
    "                transforms.CenterCrop(crop_size)\n",
    "            )\n",
    "        else:\n",
    "            self.transforms = None\n",
    "       \n",
    "    def __getitem__(self, i):\n",
    "        interval = 1\n",
    "        # this is 1-indexed on disk\n",
    "        i += 1\n",
    "        int_as_str = f'{i}'.zfill(5)\n",
    "        ref = plt.imread(self.data_dir / f'im{int_as_str}.png')\n",
    "        int_as_str = f'{i + interval}'.zfill(5)\n",
    "        im = plt.imread(self.data_dir / f'im{int_as_str}.png')\n",
    "        imgs = [ref, im]\n",
    "\n",
    "        # plt.imread should make inputs in [0, 1] for us\n",
    "        imgs = np.stack(imgs, axis=0)\n",
    "        # bring RGB channels in front\n",
    "        imgs = imgs.transpose(0, 3, 1, 2)\n",
    "        imgs = torch.FloatTensor(imgs)\n",
    "        if self.transforms:\n",
    "            imgs = self.transforms(imgs)\n",
    "        return imgs\n",
    "\n",
    "    def __len__(self):\n",
    "        return self.numframes - 1\n",
    "\n",
    "all_uvg_dl = []\n",
    "for d in DATA_DIRS:\n",
    "    ds = UVGDataset(d, crop_size=640)\n",
    "    dl = torch.utils.data.DataLoader(\n",
    "        ds,\n",
    "        shuffle=True,\n",
    "        batch_size=BATCH_SIZE,\n",
    "        num_workers=6,\n",
    "        prefetch_factor=5\n",
    "    )\n",
    "    all_uvg_dl.append(dl)\n"
   ]
  },
  {
   "cell_type": "code",
   "execution_count": 9,
   "id": "5f67b8fc",
   "metadata": {},
   "outputs": [
    {
     "name": "stdout",
     "output_type": "stream",
     "text": [
      "The model has 7944448 trainable parameters\n"
     ]
    }
   ],
   "source": [
    "def count_parameters(model):\n",
    "    \"\"\"Return number of parameters in a model\"\"\"\n",
    "    return sum(p.numel() for p in model.parameters() if p.requires_grad)\n",
    "\n",
    "print(f'The model has {count_parameters(video_net)} trainable parameters')"
   ]
  },
  {
   "cell_type": "code",
   "execution_count": 10,
   "id": "a3dd62fc",
   "metadata": {},
   "outputs": [],
   "source": [
    "def test_epoch(model, dl, compress_type, max_iters=None):\n",
    "    mse_criterion = torch.nn.MSELoss()\n",
    "    model.train()\n",
    "    \n",
    "    mse_meter = meter.AverageValueMeter()\n",
    "    bpp_meter = meter.AverageValueMeter()\n",
    "    bpp_mv_y_meter = meter.AverageValueMeter()\n",
    "    bpp_mv_z_meter = meter.AverageValueMeter()\n",
    "    bpp_y_meter = meter.AverageValueMeter()\n",
    "    bpp_z_meter = meter.AverageValueMeter()\n",
    "    \n",
    "    pbar = tqdm.tqdm(dl)\n",
    "    for i, x in enumerate(pbar):\n",
    "        x = x.to(DEVICE)\n",
    "        ref = x[:,0]\n",
    "        im = x[:,1]\n",
    "        with torch.no_grad():\n",
    "            preds_dict = model(ref, im, compress_type=compress_type)\n",
    "        preds = preds_dict['recon_image']\n",
    "        bpp = preds_dict['bpp']\n",
    "        \n",
    "        mse_ls = mse_criterion(preds, im)\n",
    "        mse_meter.add(mse_ls.item())\n",
    "        bpp_meter.add(bpp.item())\n",
    "        bpp_mv_y_meter.add(preds_dict['bpp_mv_y'].item())\n",
    "        bpp_mv_z_meter.add(preds_dict['bpp_mv_z'].item())\n",
    "        bpp_y_meter.add(preds_dict['bpp_y'].item())\n",
    "        bpp_z_meter.add(preds_dict['bpp_z'].item())\n",
    "        if i % 1 == 0:\n",
    "            avg_psnr = round(-10.0*np.log10(mse_meter.value()[0]), 6)\n",
    "            avg_bpp = round(bpp_meter.value()[0], 6)\n",
    "            avg_bpp_mv_y = round(bpp_mv_y_meter.value()[0], 6)\n",
    "            avg_bpp_mv_z = round(bpp_mv_z_meter.value()[0], 6)\n",
    "            avg_bpp_y = round(bpp_y_meter.value()[0], 6)\n",
    "            avg_bpp_z = round(bpp_z_meter.value()[0], 6)\n",
    "            msg = (\n",
    "                f'Avg PSNR: {avg_psnr}, bpp: {avg_bpp}, bpp_mv_y: {avg_bpp_mv_y}, avg_bpp_mv_z: {avg_bpp_mv_z} '\n",
    "                f'avg_bpp_y: {avg_bpp_y}, avg_bpp_z: {avg_bpp_z}'\n",
    "            )\n",
    "            pbar.set_description(msg)\n",
    "            \n",
    "        if max_iters is not None and i == max_iters:\n",
    "            break\n",
    "    \n",
    "    avg_psnr = -10.0*np.log10(mse_meter.value()[0])\n",
    "    avg_bpp = bpp_meter.value()[0]                     \n",
    "    return avg_psnr, avg_bpp\n",
    "            "
   ]
  },
  {
   "cell_type": "code",
   "execution_count": null,
   "id": "b368e95c",
   "metadata": {},
   "outputs": [],
   "source": [
    "# US\n",
    "psnrs = []\n",
    "bpps = []\n",
    "for p, dl in zip(DATA_DIRS, all_uvg_dl):\n",
    "    print(\"RUNNING:\", p)\n",
    "    psnr, bpp = test_epoch(video_net, dl, compress_type='full', max_iters=10)\n",
    "    psnrs.append(psnr)\n",
    "    bpps.append(bpp)"
   ]
  },
  {
   "cell_type": "code",
   "execution_count": null,
   "id": "21bdf2cd",
   "metadata": {},
   "outputs": [],
   "source": [
    "np.mean(psnrs), np.mean(bpps)"
   ]
  },
  {
   "cell_type": "code",
   "execution_count": null,
   "id": "88435e59",
   "metadata": {},
   "outputs": [],
   "source": []
  },
  {
   "cell_type": "code",
   "execution_count": 11,
   "id": "126a9bf2",
   "metadata": {},
   "outputs": [
    {
     "name": "stdout",
     "output_type": "stream",
     "text": [
      "RUNNING: ../uvg/Beauty_PNG_1024\n"
     ]
    },
    {
     "name": "stderr",
     "output_type": "stream",
     "text": [
      "Avg PSNR: 35.794661, bpp: 0.071016, bpp_mv_y: 0.027168, avg_bpp_mv_z: 0.000757 avg_bpp_y: 0.041887, avg_bpp_z: 0.001204:   7%|▋         | 10/150 [00:07<01:49,  1.28it/s]\n"
     ]
    },
    {
     "name": "stdout",
     "output_type": "stream",
     "text": [
      "RUNNING: ../uvg/Bosphorus_PNG_1024\n"
     ]
    },
    {
     "name": "stderr",
     "output_type": "stream",
     "text": [
      "Avg PSNR: 41.21311, bpp: 0.024573, bpp_mv_y: 0.009923, avg_bpp_mv_z: 0.000775 avg_bpp_y: 0.012836, avg_bpp_z: 0.001039:   7%|▋         | 10/150 [00:07<01:47,  1.30it/s]\n"
     ]
    },
    {
     "name": "stdout",
     "output_type": "stream",
     "text": [
      "RUNNING: ../uvg/HoneyBee_PNG_1024\n"
     ]
    },
    {
     "name": "stderr",
     "output_type": "stream",
     "text": [
      "Avg PSNR: 38.022331, bpp: 0.01925, bpp_mv_y: 0.011791, avg_bpp_mv_z: 0.000677 avg_bpp_y: 0.005869, avg_bpp_z: 0.000913:   7%|▋         | 10/150 [00:07<01:47,  1.30it/s] \n"
     ]
    },
    {
     "name": "stdout",
     "output_type": "stream",
     "text": [
      "RUNNING: ../uvg/Jockey_PNG_1024\n"
     ]
    },
    {
     "name": "stderr",
     "output_type": "stream",
     "text": [
      "Avg PSNR: 38.398582, bpp: 0.072865, bpp_mv_y: 0.022507, avg_bpp_mv_z: 0.00083 avg_bpp_y: 0.048462, avg_bpp_z: 0.001066:   7%|▋         | 10/150 [00:07<01:49,  1.28it/s] \n"
     ]
    },
    {
     "name": "stdout",
     "output_type": "stream",
     "text": [
      "RUNNING: ../uvg/ReadySetGo_PNG_1024\n"
     ]
    },
    {
     "name": "stderr",
     "output_type": "stream",
     "text": [
      "Avg PSNR: 40.088816, bpp: 0.076545, bpp_mv_y: 0.019744, avg_bpp_mv_z: 0.001055 avg_bpp_y: 0.054397, avg_bpp_z: 0.001349:   7%|▋         | 10/150 [00:07<01:48,  1.29it/s]\n"
     ]
    },
    {
     "name": "stdout",
     "output_type": "stream",
     "text": [
      "RUNNING: ../uvg/ShakeNDry_PNG_1024\n"
     ]
    },
    {
     "name": "stderr",
     "output_type": "stream",
     "text": [
      "Avg PSNR: 37.091844, bpp: 0.193636, bpp_mv_y: 0.037897, avg_bpp_mv_z: 0.001031 avg_bpp_y: 0.153239, avg_bpp_z: 0.001469:  13%|█▎        | 10/75 [00:07<00:50,  1.28it/s]\n"
     ]
    },
    {
     "name": "stdout",
     "output_type": "stream",
     "text": [
      "RUNNING: ../uvg/YachtRide_PNG_1024\n"
     ]
    },
    {
     "name": "stderr",
     "output_type": "stream",
     "text": [
      "Avg PSNR: 40.169176, bpp: 0.108096, bpp_mv_y: 0.02295, avg_bpp_mv_z: 0.000999 avg_bpp_y: 0.0824, avg_bpp_z: 0.001747:   7%|▋         | 10/150 [00:07<01:47,  1.30it/s]  \n"
     ]
    }
   ],
   "source": [
    "# THEM\n",
    "psnrs = []\n",
    "bpps = []\n",
    "for p, dl in zip(DATA_DIRS, all_uvg_dl):\n",
    "    print(\"RUNNING:\", p)\n",
    "    psnr, bpp = test_epoch(video_net, dl, compress_type='full', max_iters=10)\n",
    "    psnrs.append(psnr)\n",
    "    bpps.append(bpp)"
   ]
  },
  {
   "cell_type": "code",
   "execution_count": 16,
   "id": "b5350ec8",
   "metadata": {},
   "outputs": [
    {
     "name": "stdout",
     "output_type": "stream",
     "text": [
      "0.07101565667174078 , 35.79466097395373 , ../uvg/Beauty_PNG_1024\n",
      "0.0245733591304584 , 41.21311025656723 , ../uvg/Bosphorus_PNG_1024\n",
      "0.019250499761917377 , 38.02233055439658 , ../uvg/HoneyBee_PNG_1024\n",
      "0.07286473160440271 , 38.39858204100694 , ../uvg/Jockey_PNG_1024\n",
      "0.07654547623612665 , 40.08881611509706 , ../uvg/ReadySetGo_PNG_1024\n",
      "0.19363600354303018 , 37.091844480390066 , ../uvg/ShakeNDry_PNG_1024\n",
      "0.1080957285382531 , 40.16917607681294 , ../uvg/YachtRide_PNG_1024\n"
     ]
    }
   ],
   "source": [
    "for bpp, psnr, ds in zip(bpps, psnrs, DATA_DIRS):\n",
    "    print(bpp, ',', psnr, ',', ds)"
   ]
  },
  {
   "cell_type": "code",
   "execution_count": 10,
   "id": "9cafcd2c",
   "metadata": {},
   "outputs": [
    {
     "data": {
      "text/plain": [
       "(38.65692248416224, 0.08105418383591359)"
      ]
     },
     "execution_count": 10,
     "metadata": {},
     "output_type": "execute_result"
    }
   ],
   "source": [
    "np.mean(psnrs), np.mean(bpps)"
   ]
  },
  {
   "cell_type": "code",
   "execution_count": null,
   "id": "01a8f473",
   "metadata": {},
   "outputs": [],
   "source": []
  }
 ],
 "metadata": {
  "kernelspec": {
   "display_name": "dcvc",
   "language": "python",
   "name": "dcvc"
  },
  "language_info": {
   "codemirror_mode": {
    "name": "ipython",
    "version": 3
   },
   "file_extension": ".py",
   "mimetype": "text/x-python",
   "name": "python",
   "nbconvert_exporter": "python",
   "pygments_lexer": "ipython3",
   "version": "3.8.13"
  }
 },
 "nbformat": 4,
 "nbformat_minor": 5
}
