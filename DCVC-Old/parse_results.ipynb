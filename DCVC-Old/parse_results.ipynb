{
 "cells": [
  {
   "cell_type": "code",
   "execution_count": 1,
   "id": "0a416013",
   "metadata": {},
   "outputs": [],
   "source": [
    "import json\n",
    "import numpy as np"
   ]
  },
  {
   "cell_type": "code",
   "execution_count": 2,
   "id": "59d829ff",
   "metadata": {},
   "outputs": [],
   "source": [
    "with open('DCVC_result_psnr_full_qual2.json', 'r') as fp:\n",
    "    res_full_qual2 = json.load(fp)\n",
    "\n",
    "with open('DCVC_result_psnr_full_qual3.json', 'r') as fp:\n",
    "    res_full_qual3 = json.load(fp)\n",
    "\n",
    "# with open('DCVC_result_psnr.json', 'r') as fp:\n",
    "#     res_120 = json.load(fp)"
   ]
  },
  {
   "cell_type": "code",
   "execution_count": 3,
   "id": "71ec765d",
   "metadata": {},
   "outputs": [],
   "source": [
    "def analyze(res, qual):\n",
    "    bpps = []\n",
    "    psnrs = []\n",
    "    for k in res['UVG']:\n",
    "        bpp = res['UVG'][k][f'model_dcvc_quality_{qual}_psnr.pth']['ave_all_frame_bpp']\n",
    "        psnr = res['UVG'][k][f'model_dcvc_quality_{qual}_psnr.pth']['ave_all_frame_quality']\n",
    "        bpps.append(bpp)\n",
    "        psnrs.append(psnr)\n",
    "    return bpps, psnrs"
   ]
  },
  {
   "cell_type": "code",
   "execution_count": 4,
   "id": "5d234f66",
   "metadata": {},
   "outputs": [],
   "source": [
    "bpps_full_qual2, psnrs_full_qual2 = analyze(res_full_qual2, qual=2)\n",
    "bpps_full_qual3, psnrs_full_qual3 = analyze(res_full_qual3, qual=3)\n"
   ]
  },
  {
   "cell_type": "code",
   "execution_count": 5,
   "id": "3610914d",
   "metadata": {},
   "outputs": [
    {
     "data": {
      "text/plain": [
       "(0.06221760204802489, 36.50424718130203)"
      ]
     },
     "execution_count": 5,
     "metadata": {},
     "output_type": "execute_result"
    }
   ],
   "source": [
    "np.mean(bpps_full_qual2), np.mean(psnrs_full_qual2)"
   ]
  },
  {
   "cell_type": "code",
   "execution_count": 6,
   "id": "8ec97517",
   "metadata": {},
   "outputs": [
    {
     "data": {
      "text/plain": [
       "(0.1014432426222733, 37.56456722713652)"
      ]
     },
     "execution_count": 6,
     "metadata": {},
     "output_type": "execute_result"
    }
   ],
   "source": [
    "np.mean(bpps_full_qual3), np.mean(psnrs_full_qual3)"
   ]
  },
  {
   "cell_type": "code",
   "execution_count": null,
   "id": "7be9a4e7",
   "metadata": {},
   "outputs": [],
   "source": []
  }
 ],
 "metadata": {
  "kernelspec": {
   "display_name": "jatin-lowdelay",
   "language": "python",
   "name": "jatin-lowdelay"
  },
  "language_info": {
   "codemirror_mode": {
    "name": "ipython",
    "version": 3
   },
   "file_extension": ".py",
   "mimetype": "text/x-python",
   "name": "python",
   "nbconvert_exporter": "python",
   "pygments_lexer": "ipython3",
   "version": "3.9.12"
  }
 },
 "nbformat": 4,
 "nbformat_minor": 5
}
