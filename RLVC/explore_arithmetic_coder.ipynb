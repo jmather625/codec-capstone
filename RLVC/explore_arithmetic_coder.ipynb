{
 "cells": [
  {
   "cell_type": "code",
   "execution_count": 4,
   "metadata": {},
   "outputs": [],
   "source": [
    "import arithmeticcoding\n",
    "import numpy as np"
   ]
  },
  {
   "cell_type": "code",
   "execution_count": 2,
   "metadata": {},
   "outputs": [],
   "source": [
    "bitout = arithmeticcoding.BitOutputStream(open('explore.bin', \"wb\"))"
   ]
  },
  {
   "cell_type": "code",
   "execution_count": 3,
   "metadata": {},
   "outputs": [],
   "source": [
    "enc = arithmeticcoding.ArithmeticEncoder(32, bitout)"
   ]
  },
  {
   "cell_type": "code",
   "execution_count": 5,
   "metadata": {},
   "outputs": [],
   "source": [
    "data = np.random.randn(10)"
   ]
  },
  {
   "cell_type": "code",
   "execution_count": 6,
   "metadata": {},
   "outputs": [
    {
     "data": {
      "text/plain": [
       "array([-0.17259241, -1.8578961 , -1.04599681,  0.81558815,  0.29714268,\n",
       "       -0.80676828,  1.1762251 , -0.66119213,  0.19987322, -0.22590337])"
      ]
     },
     "execution_count": 6,
     "metadata": {},
     "output_type": "execute_result"
    }
   ],
   "source": [
    "data"
   ]
  },
  {
   "cell_type": "code",
   "execution_count": 7,
   "metadata": {},
   "outputs": [],
   "source": [
    "bias = 50"
   ]
  },
  {
   "cell_type": "code",
   "execution_count": 8,
   "metadata": {},
   "outputs": [],
   "source": [
    "mu_val = 0 + bias\n",
    "sigma_val = 1\n",
    "symbol = data + bias"
   ]
  },
  {
   "cell_type": "code",
   "execution_count": 11,
   "metadata": {},
   "outputs": [],
   "source": [
    "freq = arithmeticcoding.logFrequencyTable_exp(\n",
    "    mu_val, sigma_val, np.int(bias * 2 + 1)\n",
    ")\n",
    "\n",
    "for s in symbol:\n",
    "    enc.write(freq, s)"
   ]
  },
  {
   "cell_type": "code",
   "execution_count": 12,
   "metadata": {},
   "outputs": [],
   "source": [
    "enc.finish()\n",
    "bitout.close()"
   ]
  },
  {
   "cell_type": "code",
   "execution_count": 18,
   "metadata": {},
   "outputs": [],
   "source": [
    "bitout = arithmeticcoding.BitInputStream(open('explore.bin', \"rb\"))\n",
    "dec = arithmeticcoding.ArithmeticDecoder(32, bitout)"
   ]
  },
  {
   "cell_type": "code",
   "execution_count": 19,
   "metadata": {},
   "outputs": [],
   "source": [
    "freq = arithmeticcoding.logFrequencyTable_exp(\n",
    "    mu_val, sigma_val, np.int(bias * 2 + 1)\n",
    ")\n",
    "out = []\n",
    "for i in range(len(symbol)):\n",
    "    out.append(dec.read(freq))"
   ]
  },
  {
   "cell_type": "code",
   "execution_count": 21,
   "metadata": {},
   "outputs": [
    {
     "data": {
      "text/plain": [
       "array([49.82740759, 48.1421039 , 48.95400319, 50.81558815, 50.29714268,\n",
       "       49.19323172, 51.1762251 , 49.33880787, 50.19987322, 49.77409663])"
      ]
     },
     "execution_count": 21,
     "metadata": {},
     "output_type": "execute_result"
    }
   ],
   "source": [
    "symbol"
   ]
  },
  {
   "cell_type": "code",
   "execution_count": 20,
   "metadata": {},
   "outputs": [
    {
     "data": {
      "text/plain": [
       "[50, 45, 58, 50, 49, 53, 50, 52, 46, 52]"
      ]
     },
     "execution_count": 20,
     "metadata": {},
     "output_type": "execute_result"
    }
   ],
   "source": [
    "out"
   ]
  },
  {
   "cell_type": "code",
   "execution_count": null,
   "metadata": {},
   "outputs": [],
   "source": []
  }
 ],
 "metadata": {
  "kernelspec": {
   "display_name": "Python 3",
   "language": "python",
   "name": "python3"
  },
  "language_info": {
   "codemirror_mode": {
    "name": "ipython",
    "version": 3
   },
   "file_extension": ".py",
   "mimetype": "text/x-python",
   "name": "python",
   "nbconvert_exporter": "python",
   "pygments_lexer": "ipython3",
   "version": "3.7.3"
  }
 },
 "nbformat": 4,
 "nbformat_minor": 2
}
