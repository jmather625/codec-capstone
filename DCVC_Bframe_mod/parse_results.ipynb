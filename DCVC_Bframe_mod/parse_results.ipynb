{
 "cells": [
  {
   "cell_type": "code",
   "execution_count": 14,
   "id": "0a416013",
   "metadata": {},
   "outputs": [],
   "source": [
    "import json\n",
    "import numpy as np"
   ]
  },
  {
   "cell_type": "code",
   "execution_count": 6,
   "id": "59d829ff",
   "metadata": {},
   "outputs": [],
   "source": [
    "with open('DCVC_result_psnr.json', 'r') as fp:\n",
    "    res = json.load(fp)"
   ]
  },
  {
   "cell_type": "code",
   "execution_count": 12,
   "id": "accd5b33",
   "metadata": {},
   "outputs": [],
   "source": [
    "bpps = []\n",
    "psnrs = []\n",
    "for k in res['UVG']:\n",
    "    bpp = res['UVG'][k]['model_dcvc_quality_3_psnr.pth']['ave_all_frame_bpp']\n",
    "    psnr = res['UVG'][k]['model_dcvc_quality_3_psnr.pth']['ave_all_frame_quality']\n",
    "    bpps.append(bpp)\n",
    "    psnrs.append(psnr)"
   ]
  },
  {
   "cell_type": "code",
   "execution_count": 15,
   "id": "4b5a710e",
   "metadata": {},
   "outputs": [
    {
     "data": {
      "text/plain": [
       "(0.10385970781468565, 37.44428158260528)"
      ]
     },
     "execution_count": 15,
     "metadata": {},
     "output_type": "execute_result"
    }
   ],
   "source": [
    "np.mean(bpps), np.mean(psnrs)"
   ]
  },
  {
   "cell_type": "code",
   "execution_count": null,
   "id": "7be9a4e7",
   "metadata": {},
   "outputs": [],
   "source": []
  }
 ],
 "metadata": {
  "kernelspec": {
   "display_name": "jatin-lowdelay",
   "language": "python",
   "name": "jatin-lowdelay"
  },
  "language_info": {
   "codemirror_mode": {
    "name": "ipython",
    "version": 3
   },
   "file_extension": ".py",
   "mimetype": "text/x-python",
   "name": "python",
   "nbconvert_exporter": "python",
   "pygments_lexer": "ipython3",
   "version": "3.9.12"
  }
 },
 "nbformat": 4,
 "nbformat_minor": 5
}
