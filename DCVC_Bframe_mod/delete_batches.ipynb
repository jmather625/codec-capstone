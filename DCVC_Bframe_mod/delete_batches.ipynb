{
 "cells": [
  {
   "cell_type": "code",
   "execution_count": 1,
   "id": "46678bec",
   "metadata": {},
   "outputs": [],
   "source": [
    "import os\n",
    "import pathlib"
   ]
  },
  {
   "cell_type": "code",
   "execution_count": 8,
   "id": "23ed0d88",
   "metadata": {},
   "outputs": [],
   "source": [
    "f = pathlib.Path('dcvc-b-frame-convtranspose-fail')"
   ]
  },
  {
   "cell_type": "code",
   "execution_count": 9,
   "id": "28fe7a1f",
   "metadata": {},
   "outputs": [],
   "source": [
    "files = os.listdir(f)"
   ]
  },
  {
   "cell_type": "code",
   "execution_count": 10,
   "id": "aa8170d9",
   "metadata": {},
   "outputs": [],
   "source": [
    "for fn in files:\n",
    "    if 'batch' in fn and 'epoch=4' not in fn:\n",
    "        print(fn)\n",
    "#         os.remove(f / fn)"
   ]
  },
  {
   "cell_type": "code",
   "execution_count": null,
   "id": "78ba904a",
   "metadata": {},
   "outputs": [],
   "source": []
  }
 ],
 "metadata": {
  "kernelspec": {
   "display_name": "dcvc",
   "language": "python",
   "name": "dcvc"
  },
  "language_info": {
   "codemirror_mode": {
    "name": "ipython",
    "version": 3
   },
   "file_extension": ".py",
   "mimetype": "text/x-python",
   "name": "python",
   "nbconvert_exporter": "python",
   "pygments_lexer": "ipython3",
   "version": "3.8.13"
  }
 },
 "nbformat": 4,
 "nbformat_minor": 5
}
