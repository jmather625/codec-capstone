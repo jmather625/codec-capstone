{
 "cells": [
  {
   "cell_type": "code",
   "execution_count": 1,
   "id": "6595e4fe",
   "metadata": {},
   "outputs": [],
   "source": [
    "%load_ext autoreload\n",
    "%autoreload 2"
   ]
  },
  {
   "cell_type": "code",
   "execution_count": 2,
   "id": "de3f3e62",
   "metadata": {},
   "outputs": [
    {
     "name": "stderr",
     "output_type": "stream",
     "text": [
      "/home/jatin/miniconda3/envs/DCVC/lib/python3.8/site-packages/tqdm/auto.py:22: TqdmWarning: IProgress not found. Please update jupyter and ipywidgets. See https://ipywidgets.readthedocs.io/en/stable/user_install.html\n",
      "  from .autonotebook import tqdm as notebook_tqdm\n"
     ]
    }
   ],
   "source": [
    "from src.models.DCVC_net import DCVC_net\n",
    "import torch\n",
    "from torchvision import transforms\n",
    "import numpy as np\n",
    "import pathlib\n",
    "import os\n",
    "import matplotlib.pyplot as plt\n",
    "import wandb\n",
    "import tqdm\n",
    "from torchnet import meter"
   ]
  },
  {
   "cell_type": "code",
   "execution_count": 3,
   "id": "46ba9f51",
   "metadata": {},
   "outputs": [
    {
     "data": {
      "text/plain": [
       "device(type='cuda')"
      ]
     },
     "execution_count": 3,
     "metadata": {},
     "output_type": "execute_result"
    }
   ],
   "source": [
    "BATCH_SIZE = 4\n",
    "DATA_DIR = pathlib.Path('../uvg/Beauty_PNG_1024/')\n",
    "DEVICE = torch.device('cuda')\n",
    "DEVICE"
   ]
  },
  {
   "cell_type": "code",
   "execution_count": 4,
   "id": "4f3b397d",
   "metadata": {},
   "outputs": [],
   "source": [
    "video_net = DCVC_net(up_strategy='default')"
   ]
  },
  {
   "cell_type": "code",
   "execution_count": 5,
   "id": "c7626553",
   "metadata": {},
   "outputs": [],
   "source": [
    "# chpt = torch.load('dcvc-b-frame-with-bitrate-lambda-2048-tryfix-bitrate-ft/dcvc_epoch=1_int_psnr=0.4147_bpp=0.0425.pt')\n",
    "# chpt = torch.load('dcvc-b-frame-with-bitrate-lambda-2048-tryfix-bitrate/dcvc_epoch=3_int_0.05bpp_40.65psnr.pt')\n",
    "# chpt = torch.load('dcvc-b-frame-with-bitrate/dcvc_epoch=2_int_really_good_missed_one.pt')\n",
    "# chpt = torch.load('dcvc-b-frame-with-bitrate-lambda-2048-tryfix-bitrate/dcvc_epoch=2_int_allquantize.pt')\n",
    "# chpt = torch.load('dcvc-b-frame-with-bitrate-lambda-2048-ft-from-quant-epoch2/dcvc_epoch=1_int_psnr=0.41104_bpp=0.073_ft.pt')\n",
    "# chpt = torch.load('dcvc-b-frame-with-bitrate-lambda-2048-ft-from-quant-epoch2/dcvc_epoch=1_batch_3999_avg_psnr=40.991327.pt')\n",
    "chpt = torch.load('dcvc-b-frame-from-epoch4-from-no-lamb-lambda-2048/dcvc_epoch=2_psnr=0.4061_bpp=0.1407.pt')\n",
    "video_net.load_state_dict(chpt['model'], strict=True)\n",
    "\n",
    "# LOADS OLD WEIGHTS\n",
    "# chpt = torch.load('dcvc-b-frame-convtranspose-fail/dcvc_epoch=4_int.pt')\n",
    "# temporalPriorEncoder = video_net.temporalPriorEncoder\n",
    "# del video_net.temporalPriorEncoder\n",
    "# video_net.load_state_dict(chpt['model'], strict=False)\n",
    "# video_net.temporalPriorEncoder = temporalPriorEncoder\n",
    "\n",
    "video_net = video_net.to(DEVICE)\n",
    "del chpt\n"
   ]
  },
  {
   "cell_type": "code",
   "execution_count": 6,
   "id": "525a3ba9",
   "metadata": {},
   "outputs": [],
   "source": [
    "class UVGDataset(torch.utils.data.Dataset):\n",
    "    def __init__(self, data_dir, crop_size=None, deterministic=False):\n",
    "        self.data_dir = data_dir\n",
    "        self.crop_size = crop_size\n",
    "        self.deterministic = deterministic\n",
    "        self.numframes = len(os.listdir(data_dir))\n",
    "        if crop_size is not None:\n",
    "            self.transforms = torch.nn.Sequential(\n",
    "                transforms.CenterCrop(crop_size)\n",
    "            )\n",
    "        else:\n",
    "            self.transforms = None\n",
    "       \n",
    "    def __getitem__(self, i):\n",
    "        # load two reference frames and the B-frame in the middle\n",
    "        #TODO: implement making this deterministic\n",
    "        max_interval = min((len(self) + 2 - i)//2, 7)\n",
    "        if max_interval == 1:\n",
    "            interval = 1\n",
    "        else:\n",
    "            interval = np.random.randint(1, max_interval)\n",
    "        \n",
    "        # this is 1-indexed on disk\n",
    "        i += 1\n",
    "        int_as_str = f'{i}'.zfill(5)\n",
    "        ref1 = plt.imread(self.data_dir / f'im{int_as_str}.png')\n",
    "        int_as_str = f'{i + interval}'.zfill(5)\n",
    "        im = plt.imread(self.data_dir / f'im{int_as_str}.png')\n",
    "        int_as_str = f'{i + 2*interval}'.zfill(5)\n",
    "        ref2 = plt.imread(self.data_dir / f'im{int_as_str}.png')\n",
    "        imgs = [ref1, ref2, im]\n",
    "\n",
    "        # plt.imread should make inputs in [0, 1] for us\n",
    "        imgs = np.stack(imgs, axis=0)\n",
    "        # bring RGB channels in front\n",
    "        imgs = imgs.transpose(0, 3, 1, 2)\n",
    "        imgs = torch.FloatTensor(imgs)\n",
    "        if self.transforms:\n",
    "            imgs = self.transforms(imgs)\n",
    "        return imgs\n",
    "\n",
    "    def __len__(self):\n",
    "        return self.numframes - 2\n",
    "\n",
    "ds = UVGDataset(DATA_DIR, crop_size=640)\n",
    "dl = torch.utils.data.DataLoader(\n",
    "    ds,\n",
    "    shuffle=True,\n",
    "    batch_size=BATCH_SIZE,\n",
    "    num_workers=6,\n",
    "    prefetch_factor=5\n",
    ")"
   ]
  },
  {
   "cell_type": "code",
   "execution_count": 7,
   "id": "5f67b8fc",
   "metadata": {},
   "outputs": [
    {
     "name": "stdout",
     "output_type": "stream",
     "text": [
      "The model has 10622976 trainable parameters\n"
     ]
    }
   ],
   "source": [
    "def count_parameters(model):\n",
    "    \"\"\"Return number of parameters in a model\"\"\"\n",
    "    return sum(p.numel() for p in model.parameters() if p.requires_grad)\n",
    "\n",
    "print(f'The model has {count_parameters(video_net)} trainable parameters')"
   ]
  },
  {
   "cell_type": "code",
   "execution_count": 8,
   "id": "a3dd62fc",
   "metadata": {},
   "outputs": [],
   "source": [
    "def test_epoch(model, dl, compress_type):\n",
    "    mse_criterion = torch.nn.MSELoss()\n",
    "    model.eval()\n",
    "    \n",
    "    mse_meter = meter.AverageValueMeter()\n",
    "    bpp_meter = meter.AverageValueMeter()\n",
    "    bpp_mv_y_meter = meter.AverageValueMeter()\n",
    "    bpp_mv_z_meter = meter.AverageValueMeter()\n",
    "    bpp_y_meter = meter.AverageValueMeter()\n",
    "    bpp_z_meter = meter.AverageValueMeter()\n",
    "    \n",
    "    pbar = tqdm.tqdm(dl)\n",
    "    for i, x in enumerate(pbar):\n",
    "        x = x.to(DEVICE)\n",
    "        ref1 = x[:,0]\n",
    "        ref2 = x[:,1]\n",
    "        im = x[:,2]\n",
    "        with torch.no_grad():\n",
    "            preds_dict = model(ref1, ref2, im, compress_type=compress_type)\n",
    "        preds = preds_dict['recon_image']\n",
    "        bpp = preds_dict['bpp']\n",
    "        \n",
    "        mse_ls = mse_criterion(preds, im)\n",
    "        mse_meter.add(mse_ls.item())\n",
    "        bpp_meter.add(bpp.item())\n",
    "        bpp_mv_y_meter.add(preds_dict['bpp_mv_y'].item())\n",
    "        bpp_mv_z_meter.add(preds_dict['bpp_mv_z'].item())\n",
    "        bpp_y_meter.add(preds_dict['bpp_y'].item())\n",
    "        bpp_z_meter.add(preds_dict['bpp_z'].item())\n",
    "        if i % 1 == 0:\n",
    "            avg_psnr = round(-10.0*np.log10(mse_meter.value()[0]), 6)\n",
    "            avg_bpp = round(bpp_meter.value()[0], 6)\n",
    "            avg_bpp_mv_y = round(bpp_mv_y_meter.value()[0], 6)\n",
    "            avg_bpp_mv_z = round(bpp_mv_z_meter.value()[0], 6)\n",
    "            avg_bpp_y = round(bpp_y_meter.value()[0], 6)\n",
    "            avg_bpp_z = round(bpp_z_meter.value()[0], 6)\n",
    "            msg = (\n",
    "                f'Avg PSNR: {avg_psnr}, bpp: {avg_bpp}, bpp_mv_y: {avg_bpp_mv_y}, avg_bpp_mv_z: {avg_bpp_mv_z} '\n",
    "                f'avg_bpp_y: {avg_bpp_y}, avg_bpp_z: {avg_bpp_z}'\n",
    "            )\n",
    "            pbar.set_description(msg)\n",
    "            "
   ]
  },
  {
   "cell_type": "code",
   "execution_count": 9,
   "id": "d204515e",
   "metadata": {},
   "outputs": [
    {
     "name": "stderr",
     "output_type": "stream",
     "text": [
      "Avg PSNR: 35.534677, bpp: 0.114048, bpp_mv_y: 0.04983, avg_bpp_mv_z: 0.000902 avg_bpp_y: 0.061805, avg_bpp_z: 0.00151:   1%|          | 1/150 [00:03<07:46,  3.13s/it]"
     ]
    },
    {
     "name": "stdout",
     "output_type": "stream",
     "text": [
      "CYR torch.Size([4, 96, 40, 40])\n"
     ]
    },
    {
     "name": "stderr",
     "output_type": "stream",
     "text": [
      "Avg PSNR: 35.539254, bpp: 0.11583, bpp_mv_y: 0.050209, avg_bpp_mv_z: 0.000901 avg_bpp_y: 0.063236, avg_bpp_z: 0.001484:   1%|▏         | 2/150 [00:03<04:19,  1.76s/it]"
     ]
    },
    {
     "name": "stdout",
     "output_type": "stream",
     "text": [
      "CYR torch.Size([4, 96, 40, 40])\n"
     ]
    },
    {
     "name": "stderr",
     "output_type": "stream",
     "text": [
      "Avg PSNR: 35.564295, bpp: 0.11334, bpp_mv_y: 0.049195, avg_bpp_mv_z: 0.000884 avg_bpp_y: 0.061793, avg_bpp_z: 0.001468:   2%|▏         | 3/150 [00:04<03:12,  1.31s/it]"
     ]
    },
    {
     "name": "stdout",
     "output_type": "stream",
     "text": [
      "CYR torch.Size([4, 96, 40, 40])\n"
     ]
    },
    {
     "name": "stderr",
     "output_type": "stream",
     "text": [
      "Avg PSNR: 35.571661, bpp: 0.113216, bpp_mv_y: 0.049169, avg_bpp_mv_z: 0.000888 avg_bpp_y: 0.061693, avg_bpp_z: 0.001466:   3%|▎         | 4/150 [00:05<02:41,  1.10s/it]"
     ]
    },
    {
     "name": "stdout",
     "output_type": "stream",
     "text": [
      "CYR torch.Size([4, 96, 40, 40])\n"
     ]
    },
    {
     "name": "stderr",
     "output_type": "stream",
     "text": [
      "Avg PSNR: 35.59496, bpp: 0.115606, bpp_mv_y: 0.049872, avg_bpp_mv_z: 0.000881 avg_bpp_y: 0.063393, avg_bpp_z: 0.00146:   3%|▎         | 5/150 [00:06<02:23,  1.01it/s]  "
     ]
    },
    {
     "name": "stdout",
     "output_type": "stream",
     "text": [
      "CYR torch.Size([4, 96, 40, 40])\n"
     ]
    },
    {
     "name": "stderr",
     "output_type": "stream",
     "text": [
      "Avg PSNR: 35.597098, bpp: 0.114997, bpp_mv_y: 0.049761, avg_bpp_mv_z: 0.000885 avg_bpp_y: 0.062883, avg_bpp_z: 0.001469:   4%|▍         | 6/150 [00:07<02:12,  1.09it/s]"
     ]
    },
    {
     "name": "stdout",
     "output_type": "stream",
     "text": [
      "CYR torch.Size([4, 96, 40, 40])\n"
     ]
    },
    {
     "name": "stderr",
     "output_type": "stream",
     "text": [
      "Avg PSNR: 35.57922, bpp: 0.117666, bpp_mv_y: 0.050499, avg_bpp_mv_z: 0.00089 avg_bpp_y: 0.064804, avg_bpp_z: 0.001473:   5%|▍         | 7/150 [00:07<02:05,  1.14it/s]  "
     ]
    },
    {
     "name": "stdout",
     "output_type": "stream",
     "text": [
      "CYR torch.Size([4, 96, 40, 40])\n"
     ]
    },
    {
     "name": "stderr",
     "output_type": "stream",
     "text": [
      "Avg PSNR: 35.57428, bpp: 0.118437, bpp_mv_y: 0.050875, avg_bpp_mv_z: 0.000894 avg_bpp_y: 0.065202, avg_bpp_z: 0.001466:   5%|▌         | 8/150 [00:08<02:00,  1.18it/s]"
     ]
    },
    {
     "name": "stdout",
     "output_type": "stream",
     "text": [
      "CYR torch.Size([4, 96, 40, 40])\n"
     ]
    },
    {
     "name": "stderr",
     "output_type": "stream",
     "text": [
      "Avg PSNR: 35.556846, bpp: 0.12113, bpp_mv_y: 0.051532, avg_bpp_mv_z: 0.000893 avg_bpp_y: 0.067241, avg_bpp_z: 0.001464:   6%|▌         | 9/150 [00:09<01:56,  1.21it/s]"
     ]
    },
    {
     "name": "stdout",
     "output_type": "stream",
     "text": [
      "CYR torch.Size([4, 96, 40, 40])\n"
     ]
    },
    {
     "name": "stderr",
     "output_type": "stream",
     "text": [
      "Avg PSNR: 35.547601, bpp: 0.121557, bpp_mv_y: 0.051679, avg_bpp_mv_z: 0.000893 avg_bpp_y: 0.067525, avg_bpp_z: 0.00146:   7%|▋         | 10/150 [00:10<01:53,  1.23it/s]"
     ]
    },
    {
     "name": "stdout",
     "output_type": "stream",
     "text": [
      "CYR torch.Size([4, 96, 40, 40])\n"
     ]
    },
    {
     "name": "stderr",
     "output_type": "stream",
     "text": [
      "Avg PSNR: 35.556732, bpp: 0.122792, bpp_mv_y: 0.052278, avg_bpp_mv_z: 0.000896 avg_bpp_y: 0.068163, avg_bpp_z: 0.001456:   7%|▋         | 11/150 [00:10<01:51,  1.25it/s]"
     ]
    },
    {
     "name": "stdout",
     "output_type": "stream",
     "text": [
      "CYR torch.Size([4, 96, 40, 40])\n"
     ]
    },
    {
     "name": "stderr",
     "output_type": "stream",
     "text": [
      "Avg PSNR: 35.556402, bpp: 0.123454, bpp_mv_y: 0.052345, avg_bpp_mv_z: 0.000896 avg_bpp_y: 0.068752, avg_bpp_z: 0.001461:   8%|▊         | 12/150 [00:11<01:49,  1.26it/s]"
     ]
    },
    {
     "name": "stdout",
     "output_type": "stream",
     "text": [
      "CYR torch.Size([4, 96, 40, 40])\n"
     ]
    },
    {
     "name": "stderr",
     "output_type": "stream",
     "text": [
      "Avg PSNR: 35.560596, bpp: 0.123625, bpp_mv_y: 0.05241, avg_bpp_mv_z: 0.000896 avg_bpp_y: 0.06886, avg_bpp_z: 0.001459:   9%|▊         | 13/150 [00:12<01:48,  1.26it/s]  "
     ]
    },
    {
     "name": "stdout",
     "output_type": "stream",
     "text": [
      "CYR torch.Size([4, 96, 40, 40])\n"
     ]
    },
    {
     "name": "stderr",
     "output_type": "stream",
     "text": [
      "Avg PSNR: 35.560596, bpp: 0.123625, bpp_mv_y: 0.05241, avg_bpp_mv_z: 0.000896 avg_bpp_y: 0.06886, avg_bpp_z: 0.001459:   9%|▊         | 13/150 [00:13<02:20,  1.03s/it]\n"
     ]
    },
    {
     "ename": "KeyboardInterrupt",
     "evalue": "",
     "output_type": "error",
     "traceback": [
      "\u001b[0;31m---------------------------------------------------------------------------\u001b[0m",
      "\u001b[0;31mKeyboardInterrupt\u001b[0m                         Traceback (most recent call last)",
      "Input \u001b[0;32mIn [9]\u001b[0m, in \u001b[0;36m<cell line: 1>\u001b[0;34m()\u001b[0m\n\u001b[0;32m----> 1\u001b[0m \u001b[43mtest_epoch\u001b[49m\u001b[43m(\u001b[49m\u001b[43mvideo_net\u001b[49m\u001b[43m,\u001b[49m\u001b[43m \u001b[49m\u001b[43mdl\u001b[49m\u001b[43m,\u001b[49m\u001b[43m \u001b[49m\u001b[43mcompress_type\u001b[49m\u001b[38;5;241;43m=\u001b[39;49m\u001b[38;5;124;43m'\u001b[39;49m\u001b[38;5;124;43mtrain_compress\u001b[39;49m\u001b[38;5;124;43m'\u001b[39;49m\u001b[43m)\u001b[49m\n",
      "Input \u001b[0;32mIn [8]\u001b[0m, in \u001b[0;36mtest_epoch\u001b[0;34m(model, dl, compress_type)\u001b[0m\n\u001b[1;32m     17\u001b[0m im \u001b[38;5;241m=\u001b[39m x[:,\u001b[38;5;241m2\u001b[39m]\n\u001b[1;32m     18\u001b[0m \u001b[38;5;28;01mwith\u001b[39;00m torch\u001b[38;5;241m.\u001b[39mno_grad():\n\u001b[0;32m---> 19\u001b[0m     preds_dict \u001b[38;5;241m=\u001b[39m \u001b[43mmodel\u001b[49m\u001b[43m(\u001b[49m\u001b[43mref1\u001b[49m\u001b[43m,\u001b[49m\u001b[43m \u001b[49m\u001b[43mref2\u001b[49m\u001b[43m,\u001b[49m\u001b[43m \u001b[49m\u001b[43mim\u001b[49m\u001b[43m,\u001b[49m\u001b[43m \u001b[49m\u001b[43mcompress_type\u001b[49m\u001b[38;5;241;43m=\u001b[39;49m\u001b[43mcompress_type\u001b[49m\u001b[43m)\u001b[49m\n\u001b[1;32m     20\u001b[0m preds \u001b[38;5;241m=\u001b[39m preds_dict[\u001b[38;5;124m'\u001b[39m\u001b[38;5;124mrecon_image\u001b[39m\u001b[38;5;124m'\u001b[39m]\n\u001b[1;32m     21\u001b[0m bpp \u001b[38;5;241m=\u001b[39m preds_dict[\u001b[38;5;124m'\u001b[39m\u001b[38;5;124mbpp\u001b[39m\u001b[38;5;124m'\u001b[39m]\n",
      "File \u001b[0;32m~/miniconda3/envs/DCVC/lib/python3.8/site-packages/torch/nn/modules/module.py:727\u001b[0m, in \u001b[0;36mModule._call_impl\u001b[0;34m(self, *input, **kwargs)\u001b[0m\n\u001b[1;32m    725\u001b[0m     result \u001b[38;5;241m=\u001b[39m \u001b[38;5;28mself\u001b[39m\u001b[38;5;241m.\u001b[39m_slow_forward(\u001b[38;5;241m*\u001b[39m\u001b[38;5;28minput\u001b[39m, \u001b[38;5;241m*\u001b[39m\u001b[38;5;241m*\u001b[39mkwargs)\n\u001b[1;32m    726\u001b[0m \u001b[38;5;28;01melse\u001b[39;00m:\n\u001b[0;32m--> 727\u001b[0m     result \u001b[38;5;241m=\u001b[39m \u001b[38;5;28;43mself\u001b[39;49m\u001b[38;5;241;43m.\u001b[39;49m\u001b[43mforward\u001b[49m\u001b[43m(\u001b[49m\u001b[38;5;241;43m*\u001b[39;49m\u001b[38;5;28;43minput\u001b[39;49m\u001b[43m,\u001b[49m\u001b[43m \u001b[49m\u001b[38;5;241;43m*\u001b[39;49m\u001b[38;5;241;43m*\u001b[39;49m\u001b[43mkwargs\u001b[49m\u001b[43m)\u001b[49m\n\u001b[1;32m    728\u001b[0m \u001b[38;5;28;01mfor\u001b[39;00m hook \u001b[38;5;129;01min\u001b[39;00m itertools\u001b[38;5;241m.\u001b[39mchain(\n\u001b[1;32m    729\u001b[0m         _global_forward_hooks\u001b[38;5;241m.\u001b[39mvalues(),\n\u001b[1;32m    730\u001b[0m         \u001b[38;5;28mself\u001b[39m\u001b[38;5;241m.\u001b[39m_forward_hooks\u001b[38;5;241m.\u001b[39mvalues()):\n\u001b[1;32m    731\u001b[0m     hook_result \u001b[38;5;241m=\u001b[39m hook(\u001b[38;5;28mself\u001b[39m, \u001b[38;5;28minput\u001b[39m, result)\n",
      "File \u001b[0;32m~/codec/codec-capstone/DCVC_Bframe_mod/src/models/DCVC_net.py:768\u001b[0m, in \u001b[0;36mDCVC_net.forward\u001b[0;34m(self, referframe1, referframe2, input_image, compress_type)\u001b[0m\n\u001b[1;32m    766\u001b[0m \u001b[38;5;28;01melif\u001b[39;00m compress_type \u001b[38;5;241m==\u001b[39m \u001b[38;5;124m\"\u001b[39m\u001b[38;5;124mtrain_compress\u001b[39m\u001b[38;5;124m\"\u001b[39m:\n\u001b[1;32m    767\u001b[0m     z \u001b[38;5;241m=\u001b[39m \u001b[38;5;28mself\u001b[39m\u001b[38;5;241m.\u001b[39mpriorEncoder(feature)\n\u001b[0;32m--> 768\u001b[0m     compressed_z \u001b[38;5;241m=\u001b[39m \u001b[38;5;28;43mself\u001b[39;49m\u001b[38;5;241;43m.\u001b[39;49m\u001b[43mtrain_quantize\u001b[49m\u001b[43m(\u001b[49m\u001b[43mz\u001b[49m\u001b[43m)\u001b[49m\n\u001b[1;32m    769\u001b[0m     params \u001b[38;5;241m=\u001b[39m \u001b[38;5;28mself\u001b[39m\u001b[38;5;241m.\u001b[39mpriorDecoder(compressed_z)\n\u001b[1;32m    770\u001b[0m     feature_renorm \u001b[38;5;241m=\u001b[39m feature\n",
      "File \u001b[0;32m~/codec/codec-capstone/DCVC_Bframe_mod/src/models/DCVC_net.py:384\u001b[0m, in \u001b[0;36mDCVC_net.train_quantize\u001b[0;34m(self, x)\u001b[0m\n\u001b[1;32m    382\u001b[0m \u001b[38;5;28;01mdef\u001b[39;00m \u001b[38;5;21mtrain_quantize\u001b[39m(\u001b[38;5;28mself\u001b[39m, x):\n\u001b[1;32m    383\u001b[0m     \u001b[38;5;66;03m# Simulates quantization by adding uniform noise [-0.5, 0.5]\u001b[39;00m\n\u001b[0;32m--> 384\u001b[0m     \u001b[38;5;28;01mreturn\u001b[39;00m x \u001b[38;5;241m+\u001b[39m \u001b[43mtorch\u001b[49m\u001b[38;5;241;43m.\u001b[39;49m\u001b[43mrand\u001b[49m\u001b[43m(\u001b[49m\u001b[43mx\u001b[49m\u001b[38;5;241;43m.\u001b[39;49m\u001b[43mshape\u001b[49m\u001b[43m)\u001b[49m\u001b[38;5;241;43m.\u001b[39;49m\u001b[43mto\u001b[49m\u001b[43m(\u001b[49m\u001b[43mx\u001b[49m\u001b[38;5;241;43m.\u001b[39;49m\u001b[43mdevice\u001b[49m\u001b[43m)\u001b[49m \u001b[38;5;241m-\u001b[39m \u001b[38;5;241m0.5\u001b[39m\n",
      "\u001b[0;31mKeyboardInterrupt\u001b[0m: "
     ]
    }
   ],
   "source": [
    "test_epoch(video_net, dl, compress_type='train_compress')"
   ]
  },
  {
   "cell_type": "code",
   "execution_count": 10,
   "id": "03a27680",
   "metadata": {},
   "outputs": [
    {
     "name": "stderr",
     "output_type": "stream",
     "text": [
      "Avg PSNR: 35.432825, bpp: 0.090584, bpp_mv_y: 0.052081, avg_bpp_mv_z: 0.000658 avg_bpp_y: 0.036806, avg_bpp_z: 0.001039:  38%|███▊      | 57/150 [00:46<01:15,  1.23it/s]\n"
     ]
    },
    {
     "ename": "KeyboardInterrupt",
     "evalue": "",
     "output_type": "error",
     "traceback": [
      "\u001b[0;31m---------------------------------------------------------------------------\u001b[0m",
      "\u001b[0;31mKeyboardInterrupt\u001b[0m                         Traceback (most recent call last)",
      "Input \u001b[0;32mIn [10]\u001b[0m, in \u001b[0;36m<cell line: 1>\u001b[0;34m()\u001b[0m\n\u001b[0;32m----> 1\u001b[0m \u001b[43mtest_epoch\u001b[49m\u001b[43m(\u001b[49m\u001b[43mvideo_net\u001b[49m\u001b[43m,\u001b[49m\u001b[43m \u001b[49m\u001b[43mdl\u001b[49m\u001b[43m,\u001b[49m\u001b[43m \u001b[49m\u001b[43mcompress_type\u001b[49m\u001b[38;5;241;43m=\u001b[39;49m\u001b[38;5;124;43m'\u001b[39;49m\u001b[38;5;124;43mfull\u001b[39;49m\u001b[38;5;124;43m'\u001b[39;49m\u001b[43m)\u001b[49m\n",
      "Input \u001b[0;32mIn [8]\u001b[0m, in \u001b[0;36mtest_epoch\u001b[0;34m(model, dl, compress_type)\u001b[0m\n\u001b[1;32m     17\u001b[0m im \u001b[38;5;241m=\u001b[39m x[:,\u001b[38;5;241m2\u001b[39m]\n\u001b[1;32m     18\u001b[0m \u001b[38;5;28;01mwith\u001b[39;00m torch\u001b[38;5;241m.\u001b[39mno_grad():\n\u001b[0;32m---> 19\u001b[0m     preds_dict \u001b[38;5;241m=\u001b[39m \u001b[43mmodel\u001b[49m\u001b[43m(\u001b[49m\u001b[43mref1\u001b[49m\u001b[43m,\u001b[49m\u001b[43m \u001b[49m\u001b[43mref2\u001b[49m\u001b[43m,\u001b[49m\u001b[43m \u001b[49m\u001b[43mim\u001b[49m\u001b[43m,\u001b[49m\u001b[43m \u001b[49m\u001b[43mcompress_type\u001b[49m\u001b[38;5;241;43m=\u001b[39;49m\u001b[43mcompress_type\u001b[49m\u001b[43m)\u001b[49m\n\u001b[1;32m     20\u001b[0m preds \u001b[38;5;241m=\u001b[39m preds_dict[\u001b[38;5;124m'\u001b[39m\u001b[38;5;124mrecon_image\u001b[39m\u001b[38;5;124m'\u001b[39m]\n\u001b[1;32m     21\u001b[0m bpp \u001b[38;5;241m=\u001b[39m preds_dict[\u001b[38;5;124m'\u001b[39m\u001b[38;5;124mbpp\u001b[39m\u001b[38;5;124m'\u001b[39m]\n",
      "File \u001b[0;32m~/miniconda3/envs/DCVC/lib/python3.8/site-packages/torch/nn/modules/module.py:727\u001b[0m, in \u001b[0;36mModule._call_impl\u001b[0;34m(self, *input, **kwargs)\u001b[0m\n\u001b[1;32m    725\u001b[0m     result \u001b[38;5;241m=\u001b[39m \u001b[38;5;28mself\u001b[39m\u001b[38;5;241m.\u001b[39m_slow_forward(\u001b[38;5;241m*\u001b[39m\u001b[38;5;28minput\u001b[39m, \u001b[38;5;241m*\u001b[39m\u001b[38;5;241m*\u001b[39mkwargs)\n\u001b[1;32m    726\u001b[0m \u001b[38;5;28;01melse\u001b[39;00m:\n\u001b[0;32m--> 727\u001b[0m     result \u001b[38;5;241m=\u001b[39m \u001b[38;5;28;43mself\u001b[39;49m\u001b[38;5;241;43m.\u001b[39;49m\u001b[43mforward\u001b[49m\u001b[43m(\u001b[49m\u001b[38;5;241;43m*\u001b[39;49m\u001b[38;5;28;43minput\u001b[39;49m\u001b[43m,\u001b[49m\u001b[43m \u001b[49m\u001b[38;5;241;43m*\u001b[39;49m\u001b[38;5;241;43m*\u001b[39;49m\u001b[43mkwargs\u001b[49m\u001b[43m)\u001b[49m\n\u001b[1;32m    728\u001b[0m \u001b[38;5;28;01mfor\u001b[39;00m hook \u001b[38;5;129;01min\u001b[39;00m itertools\u001b[38;5;241m.\u001b[39mchain(\n\u001b[1;32m    729\u001b[0m         _global_forward_hooks\u001b[38;5;241m.\u001b[39mvalues(),\n\u001b[1;32m    730\u001b[0m         \u001b[38;5;28mself\u001b[39m\u001b[38;5;241m.\u001b[39m_forward_hooks\u001b[38;5;241m.\u001b[39mvalues()):\n\u001b[1;32m    731\u001b[0m     hook_result \u001b[38;5;241m=\u001b[39m hook(\u001b[38;5;28mself\u001b[39m, \u001b[38;5;28minput\u001b[39m, result)\n",
      "File \u001b[0;32m~/codec/codec-capstone/DCVC_Bframe_mod/src/models/DCVC_net.py:715\u001b[0m, in \u001b[0;36mDCVC_net.forward\u001b[0;34m(self, referframe1, referframe2, input_image, compress_type)\u001b[0m\n\u001b[1;32m    711\u001b[0m     params_mv \u001b[38;5;241m=\u001b[39m \u001b[38;5;28mself\u001b[39m\u001b[38;5;241m.\u001b[39mmvpriorDecoder(compressed_z_mv)\n\u001b[1;32m    712\u001b[0m     \u001b[38;5;66;03m# PROBLEM:\u001b[39;00m\n\u001b[1;32m    713\u001b[0m     \u001b[38;5;66;03m# quant_mv1 = torch.round(mvfeature1)\u001b[39;00m\n\u001b[1;32m    714\u001b[0m     \u001b[38;5;66;03m# quant_mv2 = torch.round(mvfeature2)\u001b[39;00m\n\u001b[0;32m--> 715\u001b[0m     quant_mv \u001b[38;5;241m=\u001b[39m \u001b[38;5;28;43mself\u001b[39;49m\u001b[38;5;241;43m.\u001b[39;49m\u001b[43mtrain_quantize\u001b[49m\u001b[43m(\u001b[49m\u001b[43mmvfeatures\u001b[49m\u001b[43m)\u001b[49m\n\u001b[1;32m    716\u001b[0m \u001b[38;5;28;01melse\u001b[39;00m:\n\u001b[1;32m    717\u001b[0m     \u001b[38;5;28;01mraise\u001b[39;00m \u001b[38;5;167;01mValueError\u001b[39;00m(\u001b[38;5;124m\"\u001b[39m\u001b[38;5;124mUnknown compress type\u001b[39m\u001b[38;5;124m\"\u001b[39m, compress_type)\n",
      "File \u001b[0;32m~/codec/codec-capstone/DCVC_Bframe_mod/src/models/DCVC_net.py:384\u001b[0m, in \u001b[0;36mDCVC_net.train_quantize\u001b[0;34m(self, x)\u001b[0m\n\u001b[1;32m    382\u001b[0m \u001b[38;5;28;01mdef\u001b[39;00m \u001b[38;5;21mtrain_quantize\u001b[39m(\u001b[38;5;28mself\u001b[39m, x):\n\u001b[1;32m    383\u001b[0m     \u001b[38;5;66;03m# Simulates quantization by adding uniform noise [-0.5, 0.5]\u001b[39;00m\n\u001b[0;32m--> 384\u001b[0m     \u001b[38;5;28;01mreturn\u001b[39;00m x \u001b[38;5;241m+\u001b[39m \u001b[43mtorch\u001b[49m\u001b[38;5;241;43m.\u001b[39;49m\u001b[43mrand\u001b[49m\u001b[43m(\u001b[49m\u001b[43mx\u001b[49m\u001b[38;5;241;43m.\u001b[39;49m\u001b[43mshape\u001b[49m\u001b[43m)\u001b[49m\u001b[38;5;241;43m.\u001b[39;49m\u001b[43mto\u001b[49m\u001b[43m(\u001b[49m\u001b[43mx\u001b[49m\u001b[38;5;241;43m.\u001b[39;49m\u001b[43mdevice\u001b[49m\u001b[43m)\u001b[49m \u001b[38;5;241m-\u001b[39m \u001b[38;5;241m0.5\u001b[39m\n",
      "\u001b[0;31mKeyboardInterrupt\u001b[0m: "
     ]
    }
   ],
   "source": [
    "test_epoch(video_net, dl, compress_type='full')"
   ]
  },
  {
   "cell_type": "code",
   "execution_count": null,
   "id": "6a4c5af0",
   "metadata": {},
   "outputs": [],
   "source": []
  }
 ],
 "metadata": {
  "kernelspec": {
   "display_name": "dcvc",
   "language": "python",
   "name": "dcvc"
  },
  "language_info": {
   "codemirror_mode": {
    "name": "ipython",
    "version": 3
   },
   "file_extension": ".py",
   "mimetype": "text/x-python",
   "name": "python",
   "nbconvert_exporter": "python",
   "pygments_lexer": "ipython3",
   "version": "3.8.13"
  }
 },
 "nbformat": 4,
 "nbformat_minor": 5
}
