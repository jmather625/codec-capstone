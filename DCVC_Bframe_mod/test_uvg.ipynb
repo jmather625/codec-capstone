{
 "cells": [
  {
   "cell_type": "code",
   "execution_count": 1,
   "id": "6595e4fe",
   "metadata": {},
   "outputs": [],
   "source": [
    "%load_ext autoreload\n",
    "%autoreload 2"
   ]
  },
  {
   "cell_type": "code",
   "execution_count": 2,
   "id": "de3f3e62",
   "metadata": {},
   "outputs": [
    {
     "name": "stderr",
     "output_type": "stream",
     "text": [
      "/home/jatin/miniconda3/envs/DCVC/lib/python3.8/site-packages/tqdm/auto.py:22: TqdmWarning: IProgress not found. Please update jupyter and ipywidgets. See https://ipywidgets.readthedocs.io/en/stable/user_install.html\n",
      "  from .autonotebook import tqdm as notebook_tqdm\n"
     ]
    }
   ],
   "source": [
    "from src.models.DCVC_net import DCVC_net\n",
    "import torch\n",
    "from torchvision import transforms\n",
    "import numpy as np\n",
    "import pathlib\n",
    "import os\n",
    "import matplotlib.pyplot as plt\n",
    "import wandb\n",
    "import tqdm\n",
    "from torchnet import meter"
   ]
  },
  {
   "cell_type": "code",
   "execution_count": 3,
   "id": "46ba9f51",
   "metadata": {},
   "outputs": [
    {
     "data": {
      "text/plain": [
       "device(type='cuda')"
      ]
     },
     "execution_count": 3,
     "metadata": {},
     "output_type": "execute_result"
    }
   ],
   "source": [
    "BATCH_SIZE = 4\n",
    "DATA_DIRS = [\n",
    "    pathlib.Path('../uvg/Beauty_PNG_1024/'),\n",
    "    pathlib.Path('../uvg/Bosphorus_PNG_1024/'),\n",
    "    pathlib.Path('../uvg/HoneyBee_PNG_1024/'),\n",
    "    pathlib.Path('../uvg/Jockey_PNG_1024/'),\n",
    "    pathlib.Path('../uvg/ReadySetGo_PNG_1024/'),\n",
    "    pathlib.Path('../uvg/ShakeNDry_PNG_1024/'),\n",
    "    pathlib.Path('../uvg/YachtRide_PNG_1024/'),\n",
    "]\n",
    "DEVICE = torch.device('cuda')\n",
    "DEVICE"
   ]
  },
  {
   "cell_type": "code",
   "execution_count": 4,
   "id": "4f3b397d",
   "metadata": {},
   "outputs": [],
   "source": [
    "video_net = DCVC_net(up_strategy='default')"
   ]
  },
  {
   "cell_type": "code",
   "execution_count": 5,
   "id": "c7626553",
   "metadata": {},
   "outputs": [],
   "source": [
    "# chpt = torch.load('dcvc-b-frame-with-bitrate-lambda-2048-tryfix-bitrate/dcvc_epoch=2_int_allquantize.pt')\n",
    "# chpt = torch.load('b_frame_lamba=2048-old-continue/dcvc_epoch=5_int.pt')\n",
    "chpt = torch.load('b_frame_lamba=2048-old-continue/dcvc_epoch=2_avg_loss=0.28391063538771005.pt')\n",
    "video_net.load_state_dict(chpt['model'], strict=True)\n",
    "\n",
    "# LOADS OLD WEIGHTS\n",
    "# chpt = torch.load('dcvc-b-frame-convtranspose-fail/dcvc_epoch=4_int.pt')\n",
    "# temporalPriorEncoder = video_net.temporalPriorEncoder\n",
    "# del video_net.temporalPriorEncoder\n",
    "# video_net.load_state_dict(chpt['model'], strict=False)\n",
    "# video_net.temporalPriorEncoder = temporalPriorEncoder\n",
    "\n",
    "video_net = video_net.to(DEVICE)\n",
    "del chpt"
   ]
  },
  {
   "cell_type": "code",
   "execution_count": 6,
   "id": "525a3ba9",
   "metadata": {},
   "outputs": [],
   "source": [
    "class UVGDataset(torch.utils.data.Dataset):\n",
    "    def __init__(self, data_dir, crop_size=None, deterministic=False):\n",
    "        self.data_dir = data_dir\n",
    "        self.crop_size = crop_size\n",
    "        self.deterministic = deterministic\n",
    "        self.numframes = len(os.listdir(data_dir))\n",
    "        if crop_size is not None:\n",
    "            self.transforms = torch.nn.Sequential(\n",
    "                transforms.CenterCrop(crop_size)\n",
    "            )\n",
    "        else:\n",
    "            self.transforms = None\n",
    "       \n",
    "    def __getitem__(self, i):\n",
    "        # load two reference frames and the B-frame in the middle\n",
    "        #TODO: implement making this deterministic\n",
    "        max_interval = min((len(self) + 2 - i)//2, 7)\n",
    "        if max_interval == 1:\n",
    "            interval = 1\n",
    "        else:\n",
    "            interval = np.random.randint(1, max_interval)\n",
    "        \n",
    "        # this is 1-indexed on disk\n",
    "        i += 1\n",
    "        int_as_str = f'{i}'.zfill(5)\n",
    "        ref1 = plt.imread(self.data_dir / f'im{int_as_str}.png')\n",
    "        int_as_str = f'{i + interval}'.zfill(5)\n",
    "        im = plt.imread(self.data_dir / f'im{int_as_str}.png')\n",
    "        int_as_str = f'{i + 2*interval}'.zfill(5)\n",
    "        ref2 = plt.imread(self.data_dir / f'im{int_as_str}.png')\n",
    "        imgs = [ref1, ref2, im]\n",
    "\n",
    "        # plt.imread should make inputs in [0, 1] for us\n",
    "        imgs = np.stack(imgs, axis=0)\n",
    "        # bring RGB channels in front\n",
    "        imgs = imgs.transpose(0, 3, 1, 2)\n",
    "        imgs = torch.FloatTensor(imgs)\n",
    "        if self.transforms:\n",
    "            imgs = self.transforms(imgs)\n",
    "        return imgs\n",
    "\n",
    "    def __len__(self):\n",
    "        return self.numframes - 2\n",
    "\n",
    "all_uvg_dl = []\n",
    "for d in DATA_DIRS:\n",
    "    ds = UVGDataset(d, crop_size=640)\n",
    "    dl = torch.utils.data.DataLoader(\n",
    "        ds,\n",
    "        shuffle=True,\n",
    "        batch_size=BATCH_SIZE,\n",
    "        num_workers=6,\n",
    "        prefetch_factor=5\n",
    "    )\n",
    "    all_uvg_dl.append(dl)\n"
   ]
  },
  {
   "cell_type": "code",
   "execution_count": 7,
   "id": "5f67b8fc",
   "metadata": {},
   "outputs": [
    {
     "name": "stdout",
     "output_type": "stream",
     "text": [
      "The model has 10622976 trainable parameters\n"
     ]
    }
   ],
   "source": [
    "def count_parameters(model):\n",
    "    \"\"\"Return number of parameters in a model\"\"\"\n",
    "    return sum(p.numel() for p in model.parameters() if p.requires_grad)\n",
    "\n",
    "print(f'The model has {count_parameters(video_net)} trainable parameters')"
   ]
  },
  {
   "cell_type": "code",
   "execution_count": 8,
   "id": "a3dd62fc",
   "metadata": {},
   "outputs": [],
   "source": [
    "def test_epoch(model, dl, compress_type, max_iters=None):\n",
    "    mse_criterion = torch.nn.MSELoss()\n",
    "    model.train()\n",
    "    \n",
    "    mse_meter = meter.AverageValueMeter()\n",
    "    bpp_meter = meter.AverageValueMeter()\n",
    "    bpp_mv_y_meter = meter.AverageValueMeter()\n",
    "    bpp_mv_z_meter = meter.AverageValueMeter()\n",
    "    bpp_y_meter = meter.AverageValueMeter()\n",
    "    bpp_z_meter = meter.AverageValueMeter()\n",
    "    \n",
    "    pbar = tqdm.tqdm(dl)\n",
    "    for i, x in enumerate(pbar):\n",
    "        x = x.to(DEVICE)\n",
    "        ref1 = x[:,0]\n",
    "        ref2 = x[:,1]\n",
    "        im = x[:,2]\n",
    "        with torch.no_grad():\n",
    "            preds_dict = model(ref1, ref2, im, compress_type=compress_type)\n",
    "        preds = preds_dict['recon_image']\n",
    "        bpp = preds_dict['bpp']\n",
    "        \n",
    "        mse_ls = mse_criterion(preds, im)\n",
    "        mse_meter.add(mse_ls.item())\n",
    "        bpp_meter.add(bpp.item())\n",
    "        bpp_mv_y_meter.add(preds_dict['bpp_mv_y'].item())\n",
    "        bpp_mv_z_meter.add(preds_dict['bpp_mv_z'].item())\n",
    "        bpp_y_meter.add(preds_dict['bpp_y'].item())\n",
    "        bpp_z_meter.add(preds_dict['bpp_z'].item())\n",
    "        if i % 1 == 0:\n",
    "            avg_psnr = round(-10.0*np.log10(mse_meter.value()[0]), 6)\n",
    "            avg_bpp = round(bpp_meter.value()[0], 6)\n",
    "            avg_bpp_mv_y = round(bpp_mv_y_meter.value()[0], 6)\n",
    "            avg_bpp_mv_z = round(bpp_mv_z_meter.value()[0], 6)\n",
    "            avg_bpp_y = round(bpp_y_meter.value()[0], 6)\n",
    "            avg_bpp_z = round(bpp_z_meter.value()[0], 6)\n",
    "            msg = (\n",
    "                f'Avg PSNR: {avg_psnr}, bpp: {avg_bpp}, bpp_mv_y: {avg_bpp_mv_y}, avg_bpp_mv_z: {avg_bpp_mv_z} '\n",
    "                f'avg_bpp_y: {avg_bpp_y}, avg_bpp_z: {avg_bpp_z}'\n",
    "            )\n",
    "            pbar.set_description(msg)\n",
    "            \n",
    "        if max_iters is not None and i == max_iters:\n",
    "            break\n",
    "    \n",
    "    avg_psnr = -10.0*np.log10(mse_meter.value()[0])\n",
    "    avg_bpp = bpp_meter.value()[0]                     \n",
    "    return avg_psnr, avg_bpp\n",
    "            "
   ]
  },
  {
   "cell_type": "code",
   "execution_count": 9,
   "id": "8551e69a",
   "metadata": {},
   "outputs": [
    {
     "name": "stdout",
     "output_type": "stream",
     "text": [
      "RUNNING: ../uvg/Beauty_PNG_1024\n"
     ]
    },
    {
     "name": "stderr",
     "output_type": "stream",
     "text": [
      "Avg PSNR: 35.559249, bpp: 0.065763, bpp_mv_y: 0.027618, avg_bpp_mv_z: 0.000859 avg_bpp_y: 0.037287, avg_bpp_z: 0.0:   7%|▋         | 10/150 [00:15<03:35,  1.54s/it]\n"
     ]
    },
    {
     "name": "stdout",
     "output_type": "stream",
     "text": [
      "RUNNING: ../uvg/Bosphorus_PNG_1024\n"
     ]
    },
    {
     "name": "stderr",
     "output_type": "stream",
     "text": [
      "Avg PSNR: 40.365234, bpp: 0.046341, bpp_mv_y: 0.018727, avg_bpp_mv_z: 0.001083 avg_bpp_y: 0.026531, avg_bpp_z: 0.0:   7%|▋         | 10/150 [00:15<03:30,  1.51s/it]\n"
     ]
    },
    {
     "name": "stdout",
     "output_type": "stream",
     "text": [
      "RUNNING: ../uvg/HoneyBee_PNG_1024\n"
     ]
    },
    {
     "name": "stderr",
     "output_type": "stream",
     "text": [
      "Avg PSNR: 38.318393, bpp: 0.013457, bpp_mv_y: 0.009858, avg_bpp_mv_z: 0.00074 avg_bpp_y: 0.002859, avg_bpp_z: 0.0:   7%|▋         | 10/150 [00:15<03:31,  1.51s/it] \n"
     ]
    },
    {
     "name": "stdout",
     "output_type": "stream",
     "text": [
      "RUNNING: ../uvg/Jockey_PNG_1024\n"
     ]
    },
    {
     "name": "stderr",
     "output_type": "stream",
     "text": [
      "Avg PSNR: 37.393785, bpp: 0.133821, bpp_mv_y: 0.043777, avg_bpp_mv_z: 0.001152 avg_bpp_y: 0.088892, avg_bpp_z: 0.0:   7%|▋         | 10/150 [00:14<03:26,  1.47s/it]\n"
     ]
    },
    {
     "name": "stdout",
     "output_type": "stream",
     "text": [
      "RUNNING: ../uvg/ReadySetGo_PNG_1024\n"
     ]
    },
    {
     "name": "stderr",
     "output_type": "stream",
     "text": [
      "Avg PSNR: 38.071369, bpp: 0.18464, bpp_mv_y: 0.039889, avg_bpp_mv_z: 0.001481 avg_bpp_y: 0.14327, avg_bpp_z: 0.0:   7%|▋         | 10/150 [00:14<03:25,  1.47s/it]  \n"
     ]
    },
    {
     "name": "stdout",
     "output_type": "stream",
     "text": [
      "RUNNING: ../uvg/ShakeNDry_PNG_1024\n"
     ]
    },
    {
     "name": "stderr",
     "output_type": "stream",
     "text": [
      "Avg PSNR: 37.10105, bpp: 0.174979, bpp_mv_y: 0.035349, avg_bpp_mv_z: 0.001266 avg_bpp_y: 0.138364, avg_bpp_z: 0.0:  13%|█▎        | 10/75 [00:14<01:35,  1.48s/it]\n"
     ]
    },
    {
     "name": "stdout",
     "output_type": "stream",
     "text": [
      "RUNNING: ../uvg/YachtRide_PNG_1024\n"
     ]
    },
    {
     "name": "stderr",
     "output_type": "stream",
     "text": [
      "Avg PSNR: 39.00695, bpp: 0.179313, bpp_mv_y: 0.042162, avg_bpp_mv_z: 0.001369 avg_bpp_y: 0.135781, avg_bpp_z: 0.0:   7%|▋         | 10/150 [00:14<03:28,  1.49s/it] \n"
     ]
    }
   ],
   "source": [
    "psnrs = []\n",
    "bpps = []\n",
    "for p, dl in zip(DATA_DIRS, all_uvg_dl):\n",
    "    print(\"RUNNING:\", p)\n",
    "    psnr, bpp = test_epoch(video_net, dl, compress_type='full', max_iters=10)\n",
    "    psnrs.append(psnr)\n",
    "    bpps.append(bpp)"
   ]
  },
  {
   "cell_type": "code",
   "execution_count": 10,
   "id": "fe5c4002",
   "metadata": {},
   "outputs": [
    {
     "data": {
      "text/plain": [
       "(37.97371873251983, 0.11404493726886712)"
      ]
     },
     "execution_count": 10,
     "metadata": {},
     "output_type": "execute_result"
    }
   ],
   "source": [
    "# more training\n",
    "np.mean(psnrs), np.mean(bpps)"
   ]
  },
  {
   "cell_type": "code",
   "execution_count": 10,
   "id": "fdefe338",
   "metadata": {},
   "outputs": [
    {
     "data": {
      "text/plain": [
       "(38.00560484809568, 0.11046517900396866)"
      ]
     },
     "execution_count": 10,
     "metadata": {},
     "output_type": "execute_result"
    }
   ],
   "source": [
    "# old\n",
    "np.mean(psnrs), np.mean(bpps)"
   ]
  },
  {
   "cell_type": "code",
   "execution_count": null,
   "id": "3aed711b",
   "metadata": {},
   "outputs": [],
   "source": []
  }
 ],
 "metadata": {
  "kernelspec": {
   "display_name": "dcvc",
   "language": "python",
   "name": "dcvc"
  },
  "language_info": {
   "codemirror_mode": {
    "name": "ipython",
    "version": 3
   },
   "file_extension": ".py",
   "mimetype": "text/x-python",
   "name": "python",
   "nbconvert_exporter": "python",
   "pygments_lexer": "ipython3",
   "version": "3.8.13"
  }
 },
 "nbformat": 4,
 "nbformat_minor": 5
}
