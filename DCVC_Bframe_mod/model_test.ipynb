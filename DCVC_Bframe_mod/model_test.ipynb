{
 "cells": [
  {
   "cell_type": "code",
   "execution_count": 1,
   "id": "6595e4fe",
   "metadata": {},
   "outputs": [],
   "source": [
    "%load_ext autoreload\n",
    "%autoreload 2"
   ]
  },
  {
   "cell_type": "code",
   "execution_count": 2,
   "id": "de3f3e62",
   "metadata": {},
   "outputs": [
    {
     "name": "stderr",
     "output_type": "stream",
     "text": [
      "/home/jatin/miniconda3/envs/DCVC/lib/python3.8/site-packages/tqdm/auto.py:22: TqdmWarning: IProgress not found. Please update jupyter and ipywidgets. See https://ipywidgets.readthedocs.io/en/stable/user_install.html\n",
      "  from .autonotebook import tqdm as notebook_tqdm\n"
     ]
    }
   ],
   "source": [
    "from src.models.DCVC_net import DCVC_net\n",
    "import torch\n",
    "from torchvision import transforms\n",
    "import numpy as np\n",
    "import pathlib\n",
    "import os\n",
    "import matplotlib.pyplot as plt\n",
    "import wandb\n",
    "import tqdm"
   ]
  },
  {
   "cell_type": "code",
   "execution_count": 3,
   "id": "46ba9f51",
   "metadata": {},
   "outputs": [
    {
     "data": {
      "text/plain": [
       "device(type='cuda')"
      ]
     },
     "execution_count": 3,
     "metadata": {},
     "output_type": "execute_result"
    }
   ],
   "source": [
    "LAMBDA = 2048\n",
    "BATCH_SIZE = 4\n",
    "DATA_DIR = pathlib.Path('/data2/jatin/vimeo_septuplet/sequences')\n",
    "DEVICE = torch.device('cuda')\n",
    "DEVICE"
   ]
  },
  {
   "cell_type": "code",
   "execution_count": 4,
   "id": "4f3b397d",
   "metadata": {},
   "outputs": [
    {
     "name": "stdout",
     "output_type": "stream",
     "text": [
      "480\n"
     ]
    }
   ],
   "source": [
    "video_net = DCVC_net(up_strategy='default')"
   ]
  },
  {
   "cell_type": "code",
   "execution_count": 5,
   "id": "c7626553",
   "metadata": {},
   "outputs": [],
   "source": [
    "# load the good weights\n",
    "video_net.opticFlow = torch.load('../DCVC-Old/optflow.pth')\n",
    "\n",
    "video_net = video_net.to(DEVICE)\n",
    "\n",
    "optimizer = torch.optim.AdamW(video_net.parameters(), lr=1e-4)\n"
   ]
  },
  {
   "cell_type": "code",
   "execution_count": 6,
   "id": "525a3ba9",
   "metadata": {},
   "outputs": [],
   "source": [
    "class VideoDataset(torch.utils.data.Dataset):\n",
    "    def __init__(self, data_dir, crop_size=256, make_b_cut=True, deterministic=False):\n",
    "        self.data_dir = data_dir\n",
    "        self.crop_size = crop_size\n",
    "        self.make_b_cut = make_b_cut\n",
    "        self.deterministic = deterministic\n",
    "        self.all_paths = []\n",
    "        for seq in os.listdir(self.data_dir):\n",
    "            subseq = os.listdir(self.data_dir / seq)\n",
    "            for s in subseq:\n",
    "                self.all_paths.append(self.data_dir / seq / s)\n",
    "        assert len(self.all_paths) == 91701\n",
    "        \n",
    "        self.transforms = torch.nn.Sequential(\n",
    "            transforms.RandomCrop(crop_size)\n",
    "        )\n",
    "       \n",
    "    def __getitem__(self, i):\n",
    "        path = self.all_paths[i]\n",
    "        imgs = []\n",
    "        if self.make_b_cut:\n",
    "            # load two reference frames and the B-frame in the middle\n",
    "            #TODO: implement making this deterministic\n",
    "            interval = np.random.randint(1, 4) # can be 1, 2, or 3\n",
    "            ref1 = plt.imread(path / f'im{1}.png')\n",
    "            ref2 = plt.imread(path / f'im{1 + interval*2}.png')\n",
    "            # this is the B-frame, in the middle\n",
    "            im = plt.imread(path / f'im{1 + interval}.png')\n",
    "            imgs = [ref1, ref2, im]\n",
    "        else:\n",
    "            # load full sequence\n",
    "            for i in range(1, 8):\n",
    "                # should be between [0, 1]\n",
    "                img = plt.imread(path / f'im{i}.png')\n",
    "        \n",
    "        # plt.imread should make inputs in [0, 1] for us\n",
    "        imgs = np.stack(imgs, axis=0)\n",
    "        # bring RGB channels in front\n",
    "        imgs = imgs.transpose(0, 3, 1, 2)\n",
    "        return self.transforms(torch.FloatTensor(imgs))\n",
    "\n",
    "    def __len__(self):\n",
    "        return len(self.all_paths)\n",
    "\n",
    "ds = VideoDataset(DATA_DIR)"
   ]
  },
  {
   "cell_type": "code",
   "execution_count": 7,
   "id": "62637e2f",
   "metadata": {},
   "outputs": [],
   "source": [
    "mse_criterion = torch.nn.MSELoss()"
   ]
  },
  {
   "cell_type": "code",
   "execution_count": 8,
   "id": "f9da3094",
   "metadata": {},
   "outputs": [],
   "source": [
    "x = ds[0]\n",
    "x = x.unsqueeze(dim=0)\n",
    "x = x.to(DEVICE)"
   ]
  },
  {
   "cell_type": "code",
   "execution_count": 9,
   "id": "15812ad2",
   "metadata": {},
   "outputs": [],
   "source": [
    "ref1 = x[:,0]\n",
    "ref2 = x[:,1]\n",
    "im = x[:,2]"
   ]
  },
  {
   "cell_type": "code",
   "execution_count": 12,
   "id": "7131d069",
   "metadata": {},
   "outputs": [],
   "source": [
    "# TEST MEMC\n",
    "preds_dict = video_net(ref1, ref2, im, compress_type='train_compress', train_type='memc')\n",
    "mse1 = mse_criterion(preds_dict['pred1'], im)\n",
    "mse2 = mse_criterion(preds_dict['pred2'], im)\n",
    "mse = (mse1 + mse2)/2\n",
    "mse.backward()\n",
    "optimizer.step()"
   ]
  },
  {
   "cell_type": "code",
   "execution_count": 13,
   "id": "b97a47f9",
   "metadata": {},
   "outputs": [],
   "source": [
    "# TEST MEMC + MV BPP\n",
    "preds_dict = video_net(ref1, ref2, im, compress_type='train_compress', train_type='memc_bpp')\n",
    "mse1 = mse_criterion(preds_dict['pred1'], im)\n",
    "mse2 = mse_criterion(preds_dict['pred2'], im)\n",
    "mse = (mse1 + mse2)/2\n",
    "loss = mse * LAMBDA + preds_dict['mv_z_bpp'] + preds_dict['mv_y_bpp']\n",
    "loss.backward()\n",
    "optimizer.step()"
   ]
  },
  {
   "cell_type": "code",
   "execution_count": 16,
   "id": "e3f60b56",
   "metadata": {},
   "outputs": [],
   "source": [
    "# TEST RECON\n",
    "preds_dict = video_net(ref1, ref2, im, compress_type='train_compress', train_type='recon')\n",
    "mse = mse_criterion(preds_dict['recon_image'], im)\n",
    "mse.backward()\n",
    "optimizer.step()"
   ]
  },
  {
   "cell_type": "code",
   "execution_count": 18,
   "id": "9ade012f",
   "metadata": {},
   "outputs": [],
   "source": [
    "# TEST FULL\n",
    "preds_dict = video_net(ref1, ref2, im, compress_type='train_compress', train_type='full')\n",
    "mse = mse_criterion(preds_dict['recon_image'], im)\n",
    "loss = mse * LAMBDA + preds_dict['bpp']\n",
    "loss.backward()\n",
    "optimizer.step()"
   ]
  },
  {
   "cell_type": "code",
   "execution_count": null,
   "id": "14bfe4c1",
   "metadata": {},
   "outputs": [],
   "source": []
  }
 ],
 "metadata": {
  "kernelspec": {
   "display_name": "dcvc",
   "language": "python",
   "name": "dcvc"
  },
  "language_info": {
   "codemirror_mode": {
    "name": "ipython",
    "version": 3
   },
   "file_extension": ".py",
   "mimetype": "text/x-python",
   "name": "python",
   "nbconvert_exporter": "python",
   "pygments_lexer": "ipython3",
   "version": "3.8.13"
  }
 },
 "nbformat": 4,
 "nbformat_minor": 5
}
