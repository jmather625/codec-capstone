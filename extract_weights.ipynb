{
 "cells": [
  {
   "cell_type": "code",
   "execution_count": 4,
   "id": "aba43c3b",
   "metadata": {},
   "outputs": [],
   "source": [
    "import torch\n",
    "from src.models.DCVC_net import DCVC_net"
   ]
  },
  {
   "cell_type": "code",
   "execution_count": 9,
   "id": "16c6cac6",
   "metadata": {},
   "outputs": [],
   "source": [
    "video_net = DCVC_net()"
   ]
  },
  {
   "cell_type": "code",
   "execution_count": 10,
   "id": "503c419b",
   "metadata": {},
   "outputs": [],
   "source": [
    "load_checkpoint = torch.load(\n",
    "    'checkpoints/model_dcvc_quality_3_psnr.pth', map_location=torch.device(\"cpu\")\n",
    ")\n",
    "video_net.load_dict(load_checkpoint)"
   ]
  },
  {
   "cell_type": "code",
   "execution_count": 13,
   "id": "461368c1",
   "metadata": {},
   "outputs": [],
   "source": [
    "torch.save(video_net.opticFlow, 'optflow.pth')"
   ]
  },
  {
   "cell_type": "code",
   "execution_count": 14,
   "id": "ffb0a570",
   "metadata": {},
   "outputs": [],
   "source": [
    "torch.save(video_net.mvEncoder, 'mvenc.pth')"
   ]
  },
  {
   "cell_type": "code",
   "execution_count": 15,
   "id": "78eb5744",
   "metadata": {},
   "outputs": [],
   "source": [
    "torch.save(video_net.mvDecoder_part1, 'mvDecoder_part1.pth')"
   ]
  },
  {
   "cell_type": "code",
   "execution_count": 16,
   "id": "c8633cc5",
   "metadata": {},
   "outputs": [],
   "source": [
    "torch.save(video_net.mvDecoder_part2, 'mvDecoder_part2.pth')"
   ]
  },
  {
   "cell_type": "code",
   "execution_count": 17,
   "id": "2b2798e4",
   "metadata": {},
   "outputs": [],
   "source": [
    "torch.save(video_net.feature_extract, 'feature_extract.pth')"
   ]
  },
  {
   "cell_type": "code",
   "execution_count": 18,
   "id": "428a2ba1",
   "metadata": {},
   "outputs": [],
   "source": [
    "torch.save(video_net.context_refine, 'context_refine.pth')"
   ]
  },
  {
   "cell_type": "code",
   "execution_count": 19,
   "id": "8a15606e",
   "metadata": {},
   "outputs": [],
   "source": [
    "torch.save(video_net.contextualDecoder_part1, 'contextualDecoder_part1.pth')"
   ]
  },
  {
   "cell_type": "code",
   "execution_count": null,
   "id": "77f4fd27",
   "metadata": {},
   "outputs": [],
   "source": []
  }
 ],
 "metadata": {
  "kernelspec": {
   "display_name": "dcvc",
   "language": "python",
   "name": "dcvc"
  },
  "language_info": {
   "codemirror_mode": {
    "name": "ipython",
    "version": 3
   },
   "file_extension": ".py",
   "mimetype": "text/x-python",
   "name": "python",
   "nbconvert_exporter": "python",
   "pygments_lexer": "ipython3",
   "version": "3.8.13"
  }
 },
 "nbformat": 4,
 "nbformat_minor": 5
}
